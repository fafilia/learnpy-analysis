{
 "cells": [
  {
   "cell_type": "markdown",
   "metadata": {},
   "source": [
    "**LearnPy: Python for Data Analytics**\n",
    "\n",
    "- Author : Team Algoritma\n",
    "- Developed by Algoritma's product division and instructors team\n",
    "___"
   ]
  },
  {
   "cell_type": "markdown",
   "metadata": {},
   "source": [
    "# Reshaping, Group By Aggregation, and Pandas Visualization\n",
    "\n",
    "Pada bagian ini Anda akan diperkenalkan dengan struktur dataframe MultiIndex dan bagaimana cara untuk melakukan reshaping sebuah dataframe. Selain itu, Anda akan diperkenalkan dengan salah satu metode untuk melakukan agregasi yaitu `groupby()`. Method groupby ini memiliki beberapa kesamaan dengan method `crosstab()` dan `pivot_table()`, akan tetapi groupby memiliki kelebihan dimana dataframe hasil agregasinya akan lebih rapi(tidy) dibandingkan `crosstab()` maupun `pivot_table()`. \n",
    "\n",
    "Pada akhir pembahasan pada learnPy ini akan terdapat beberapa latihan dalam membuat visualisasi menggunakan method `plot()`. "
   ]
  },
  {
   "cell_type": "markdown",
   "metadata": {},
   "source": [
    "## Reshaping \n",
    "Reshaping merupakan sebuah teknik untuk mengubah bentuk data yang kita punya. Jika Anda pernah mengenal istilah dataframe dengan bentuk wide format dan long format, disinilah letak reshaping akan dibutuhkan. Lalu apa perbedaan di antara kedua bentuk data tersebut? Apakah ada kebutuhan khusus kapan kita bekerja dengan data yang memiliki bentuk wide maupun long format? Perhatikan contoh di bawah ini."
   ]
  },
  {
   "cell_type": "code",
   "execution_count": 1,
   "metadata": {
    "ExecuteTime": {
     "end_time": "2020-07-21T12:50:06.376325Z",
     "start_time": "2020-07-21T12:49:59.231143Z"
    }
   },
   "outputs": [],
   "source": [
    "import pandas as pd"
   ]
  },
  {
   "cell_type": "code",
   "execution_count": 2,
   "metadata": {
    "ExecuteTime": {
     "end_time": "2020-07-21T12:50:07.399605Z",
     "start_time": "2020-07-21T12:50:07.086441Z"
    },
    "scrolled": true
   },
   "outputs": [
    {
     "data": {
      "text/html": [
       "<div>\n",
       "<style scoped>\n",
       "    .dataframe tbody tr th:only-of-type {\n",
       "        vertical-align: middle;\n",
       "    }\n",
       "\n",
       "    .dataframe tbody tr th {\n",
       "        vertical-align: top;\n",
       "    }\n",
       "\n",
       "    .dataframe thead tr th {\n",
       "        text-align: left;\n",
       "    }\n",
       "\n",
       "    .dataframe thead tr:last-of-type th {\n",
       "        text-align: right;\n",
       "    }\n",
       "</style>\n",
       "<table border=\"1\" class=\"dataframe\">\n",
       "  <thead>\n",
       "    <tr>\n",
       "      <th></th>\n",
       "      <th colspan=\"3\" halign=\"left\">Bounce Rate</th>\n",
       "      <th colspan=\"3\" halign=\"left\">Sessions</th>\n",
       "      <th colspan=\"3\" halign=\"left\">Total Visitors</th>\n",
       "    </tr>\n",
       "    <tr>\n",
       "      <th>Device Category</th>\n",
       "      <th>desktop</th>\n",
       "      <th>mobile</th>\n",
       "      <th>tablet</th>\n",
       "      <th>desktop</th>\n",
       "      <th>mobile</th>\n",
       "      <th>tablet</th>\n",
       "      <th>desktop</th>\n",
       "      <th>mobile</th>\n",
       "      <th>tablet</th>\n",
       "    </tr>\n",
       "    <tr>\n",
       "      <th>Date</th>\n",
       "      <th></th>\n",
       "      <th></th>\n",
       "      <th></th>\n",
       "      <th></th>\n",
       "      <th></th>\n",
       "      <th></th>\n",
       "      <th></th>\n",
       "      <th></th>\n",
       "      <th></th>\n",
       "    </tr>\n",
       "  </thead>\n",
       "  <tbody>\n",
       "    <tr>\n",
       "      <th>2019-06-01</th>\n",
       "      <td>41.455099</td>\n",
       "      <td>64.462710</td>\n",
       "      <td>20.012573</td>\n",
       "      <td>337.921687</td>\n",
       "      <td>582.246269</td>\n",
       "      <td>115.878788</td>\n",
       "      <td>314.909639</td>\n",
       "      <td>477.708955</td>\n",
       "      <td>115.878788</td>\n",
       "    </tr>\n",
       "    <tr>\n",
       "      <th>2019-06-02</th>\n",
       "      <td>32.372644</td>\n",
       "      <td>46.659636</td>\n",
       "      <td>44.833929</td>\n",
       "      <td>320.876543</td>\n",
       "      <td>916.636364</td>\n",
       "      <td>132.492308</td>\n",
       "      <td>305.611111</td>\n",
       "      <td>741.898990</td>\n",
       "      <td>131.892308</td>\n",
       "    </tr>\n",
       "    <tr>\n",
       "      <th>2019-06-03</th>\n",
       "      <td>28.904192</td>\n",
       "      <td>43.962397</td>\n",
       "      <td>85.697323</td>\n",
       "      <td>821.010471</td>\n",
       "      <td>891.817610</td>\n",
       "      <td>270.419355</td>\n",
       "      <td>744.178010</td>\n",
       "      <td>695.792453</td>\n",
       "      <td>115.870968</td>\n",
       "    </tr>\n",
       "    <tr>\n",
       "      <th>2019-06-04</th>\n",
       "      <td>38.309282</td>\n",
       "      <td>57.369383</td>\n",
       "      <td>22.644138</td>\n",
       "      <td>1006.187097</td>\n",
       "      <td>837.184211</td>\n",
       "      <td>154.600000</td>\n",
       "      <td>908.735484</td>\n",
       "      <td>684.184211</td>\n",
       "      <td>64.477778</td>\n",
       "    </tr>\n",
       "    <tr>\n",
       "      <th>2019-06-05</th>\n",
       "      <td>52.500556</td>\n",
       "      <td>59.074780</td>\n",
       "      <td>22.220044</td>\n",
       "      <td>871.426136</td>\n",
       "      <td>647.034091</td>\n",
       "      <td>141.804598</td>\n",
       "      <td>788.664773</td>\n",
       "      <td>519.465909</td>\n",
       "      <td>128.896552</td>\n",
       "    </tr>\n",
       "  </tbody>\n",
       "</table>\n",
       "</div>"
      ],
      "text/plain": [
       "                Bounce Rate                           Sessions              \\\n",
       "Device Category     desktop     mobile     tablet      desktop      mobile   \n",
       "Date                                                                         \n",
       "2019-06-01        41.455099  64.462710  20.012573   337.921687  582.246269   \n",
       "2019-06-02        32.372644  46.659636  44.833929   320.876543  916.636364   \n",
       "2019-06-03        28.904192  43.962397  85.697323   821.010471  891.817610   \n",
       "2019-06-04        38.309282  57.369383  22.644138  1006.187097  837.184211   \n",
       "2019-06-05        52.500556  59.074780  22.220044   871.426136  647.034091   \n",
       "\n",
       "                            Total Visitors                          \n",
       "Device Category      tablet        desktop      mobile      tablet  \n",
       "Date                                                                \n",
       "2019-06-01       115.878788     314.909639  477.708955  115.878788  \n",
       "2019-06-02       132.492308     305.611111  741.898990  131.892308  \n",
       "2019-06-03       270.419355     744.178010  695.792453  115.870968  \n",
       "2019-06-04       154.600000     908.735484  684.184211   64.477778  \n",
       "2019-06-05       141.804598     788.664773  519.465909  128.896552  "
      ]
     },
     "execution_count": 2,
     "metadata": {},
     "output_type": "execute_result"
    }
   ],
   "source": [
    "traffic = pd.read_pickle(\"data_input/traffic.pkl\")\n",
    "traffic.head()"
   ]
  },
  {
   "cell_type": "markdown",
   "metadata": {},
   "source": [
    "Data di atas merupakan data traffic sebuah website. Data tersebut dikumpulkan berdasarkan jenis device yaitu traffic pada desktop, mobile device, dan tablet. Analisis traffic website umum dilakukan dengan tujuan untuk mengevaluasi apakah website yang dibangun sudah sesuai dengan kebutuhan user/pengguna website. Selain itu, analisis traffic website diperlukan untuk melihat kekurangan dari website yang harus segera di perbaiki, mengukur efisiensi, dana melihat perubahan strategis yang dilakukan perusahaan. Dalam melakukan analisis terhadap traffic sebuah website, kita akan melihat beberapa parameter yang paling umum digunakan yaitu bounce rate, session, dan total visitor. \n",
    "\n",
    "* `Bounce Rate` adalah persentase pengunjung yang langsung meninggalkan website setelah membuka satu halaman saja [Google Analytics](https://support.google.com/analytics/answer/1009409?hl=id). Pendapat lain mengatakan bahwa bounce rate adalah keadaan dimana setelah pengunjung membuka sebuah halaman website, ia tidak melakukan tindakan apapun di halaman tersebut. Semakin tinggi nilai bounce rate menandakan ada yang salah dengan strategi website yang dijalankan. \n",
    "\n",
    "* `Session` adalah kumpulan interaksi pengguna dengan situs Anda dalam jangka waktu tertentu. "
   ]
  },
  {
   "cell_type": "code",
   "execution_count": 3,
   "metadata": {},
   "outputs": [
    {
     "data": {
      "text/plain": [
       "(30, 9)"
      ]
     },
     "execution_count": 3,
     "metadata": {},
     "output_type": "execute_result"
    }
   ],
   "source": [
    "traffic.shape"
   ]
  },
  {
   "cell_type": "markdown",
   "metadata": {},
   "source": [
    "### Stack \n",
    "\n",
    "Metode pertama yang dapat dilakukan untuk melakukan reshaping adalah stack. Metode ini mencoba untuk menggeser level sebuah kolom untuk membuat level baru pada indeksnya. Pada `pandas` Anda dapat menggunakan method `stack()`. Perhatikan contoh berikut:"
   ]
  },
  {
   "cell_type": "code",
   "execution_count": 3,
   "metadata": {
    "ExecuteTime": {
     "end_time": "2020-07-21T12:50:13.864359Z",
     "start_time": "2020-07-21T12:50:13.835436Z"
    }
   },
   "outputs": [
    {
     "data": {
      "text/html": [
       "<div>\n",
       "<style scoped>\n",
       "    .dataframe tbody tr th:only-of-type {\n",
       "        vertical-align: middle;\n",
       "    }\n",
       "\n",
       "    .dataframe tbody tr th {\n",
       "        vertical-align: top;\n",
       "    }\n",
       "\n",
       "    .dataframe thead th {\n",
       "        text-align: right;\n",
       "    }\n",
       "</style>\n",
       "<table border=\"1\" class=\"dataframe\">\n",
       "  <thead>\n",
       "    <tr style=\"text-align: right;\">\n",
       "      <th></th>\n",
       "      <th></th>\n",
       "      <th>Bounce Rate</th>\n",
       "      <th>Sessions</th>\n",
       "      <th>Total Visitors</th>\n",
       "    </tr>\n",
       "    <tr>\n",
       "      <th>Date</th>\n",
       "      <th>Device Category</th>\n",
       "      <th></th>\n",
       "      <th></th>\n",
       "      <th></th>\n",
       "    </tr>\n",
       "  </thead>\n",
       "  <tbody>\n",
       "    <tr>\n",
       "      <th rowspan=\"3\" valign=\"top\">2019-06-01</th>\n",
       "      <th>desktop</th>\n",
       "      <td>41.455099</td>\n",
       "      <td>337.921687</td>\n",
       "      <td>314.909639</td>\n",
       "    </tr>\n",
       "    <tr>\n",
       "      <th>mobile</th>\n",
       "      <td>64.462710</td>\n",
       "      <td>582.246269</td>\n",
       "      <td>477.708955</td>\n",
       "    </tr>\n",
       "    <tr>\n",
       "      <th>tablet</th>\n",
       "      <td>20.012573</td>\n",
       "      <td>115.878788</td>\n",
       "      <td>115.878788</td>\n",
       "    </tr>\n",
       "    <tr>\n",
       "      <th rowspan=\"3\" valign=\"top\">2019-06-02</th>\n",
       "      <th>desktop</th>\n",
       "      <td>32.372644</td>\n",
       "      <td>320.876543</td>\n",
       "      <td>305.611111</td>\n",
       "    </tr>\n",
       "    <tr>\n",
       "      <th>mobile</th>\n",
       "      <td>46.659636</td>\n",
       "      <td>916.636364</td>\n",
       "      <td>741.898990</td>\n",
       "    </tr>\n",
       "    <tr>\n",
       "      <th>tablet</th>\n",
       "      <td>44.833929</td>\n",
       "      <td>132.492308</td>\n",
       "      <td>131.892308</td>\n",
       "    </tr>\n",
       "    <tr>\n",
       "      <th rowspan=\"3\" valign=\"top\">2019-06-03</th>\n",
       "      <th>desktop</th>\n",
       "      <td>28.904192</td>\n",
       "      <td>821.010471</td>\n",
       "      <td>744.178010</td>\n",
       "    </tr>\n",
       "    <tr>\n",
       "      <th>mobile</th>\n",
       "      <td>43.962397</td>\n",
       "      <td>891.817610</td>\n",
       "      <td>695.792453</td>\n",
       "    </tr>\n",
       "    <tr>\n",
       "      <th>tablet</th>\n",
       "      <td>85.697323</td>\n",
       "      <td>270.419355</td>\n",
       "      <td>115.870968</td>\n",
       "    </tr>\n",
       "  </tbody>\n",
       "</table>\n",
       "</div>"
      ],
      "text/plain": [
       "                            Bounce Rate    Sessions  Total Visitors\n",
       "Date       Device Category                                         \n",
       "2019-06-01 desktop            41.455099  337.921687      314.909639\n",
       "           mobile             64.462710  582.246269      477.708955\n",
       "           tablet             20.012573  115.878788      115.878788\n",
       "2019-06-02 desktop            32.372644  320.876543      305.611111\n",
       "           mobile             46.659636  916.636364      741.898990\n",
       "           tablet             44.833929  132.492308      131.892308\n",
       "2019-06-03 desktop            28.904192  821.010471      744.178010\n",
       "           mobile             43.962397  891.817610      695.792453\n",
       "           tablet             85.697323  270.419355      115.870968"
      ]
     },
     "execution_count": 3,
     "metadata": {},
     "output_type": "execute_result"
    }
   ],
   "source": [
    "traffic_stack = traffic.stack()\n",
    "traffic_stack.head(9)"
   ]
  },
  {
   "cell_type": "markdown",
   "metadata": {},
   "source": [
    "Stack dapat mengubah bentuk sebuah datframe dari format wide ke format long. Secara default method `stack()` akan menggeser kolom yang levelnya adalah -1. Itu artinya kolom yang memiliki level paling dalam yang akan tergeser membentuk level baru pada indeksnya. Analisis dengan bentuk dataframe seperti ini (long format) sangat membantu jika kita ingin membandingkan parameter evaluasi website dari ketiga device per masing-masing tanggal. Bagaimana jika kita ingin mengembalikannya ke bentuk dataframe awal? \n",
    "\n",
    "### Unstack\n",
    "\n",
    "Pada bagian sebelumnya, kita telah mencoba untuk mengubah bentuk dataframe dari format wide ke format long. Pada kasus tertentu, dataframe juga dapat diubah dari bentuk dengan format long ke format wide. Pandas menyediakan sebuah method yaitu `unstack()`. Perhatikan contoh berikut:"
   ]
  },
  {
   "cell_type": "code",
   "execution_count": 4,
   "metadata": {
    "ExecuteTime": {
     "end_time": "2020-07-21T12:50:17.556030Z",
     "start_time": "2020-07-21T12:50:17.535084Z"
    }
   },
   "outputs": [
    {
     "data": {
      "text/html": [
       "<div>\n",
       "<style scoped>\n",
       "    .dataframe tbody tr th:only-of-type {\n",
       "        vertical-align: middle;\n",
       "    }\n",
       "\n",
       "    .dataframe tbody tr th {\n",
       "        vertical-align: top;\n",
       "    }\n",
       "\n",
       "    .dataframe thead tr th {\n",
       "        text-align: left;\n",
       "    }\n",
       "\n",
       "    .dataframe thead tr:last-of-type th {\n",
       "        text-align: right;\n",
       "    }\n",
       "</style>\n",
       "<table border=\"1\" class=\"dataframe\">\n",
       "  <thead>\n",
       "    <tr>\n",
       "      <th></th>\n",
       "      <th colspan=\"3\" halign=\"left\">Bounce Rate</th>\n",
       "      <th colspan=\"3\" halign=\"left\">Sessions</th>\n",
       "      <th colspan=\"3\" halign=\"left\">Total Visitors</th>\n",
       "    </tr>\n",
       "    <tr>\n",
       "      <th>Device Category</th>\n",
       "      <th>desktop</th>\n",
       "      <th>mobile</th>\n",
       "      <th>tablet</th>\n",
       "      <th>desktop</th>\n",
       "      <th>mobile</th>\n",
       "      <th>tablet</th>\n",
       "      <th>desktop</th>\n",
       "      <th>mobile</th>\n",
       "      <th>tablet</th>\n",
       "    </tr>\n",
       "    <tr>\n",
       "      <th>Date</th>\n",
       "      <th></th>\n",
       "      <th></th>\n",
       "      <th></th>\n",
       "      <th></th>\n",
       "      <th></th>\n",
       "      <th></th>\n",
       "      <th></th>\n",
       "      <th></th>\n",
       "      <th></th>\n",
       "    </tr>\n",
       "  </thead>\n",
       "  <tbody>\n",
       "    <tr>\n",
       "      <th>2019-06-01</th>\n",
       "      <td>41.455099</td>\n",
       "      <td>64.462710</td>\n",
       "      <td>20.012573</td>\n",
       "      <td>337.921687</td>\n",
       "      <td>582.246269</td>\n",
       "      <td>115.878788</td>\n",
       "      <td>314.909639</td>\n",
       "      <td>477.708955</td>\n",
       "      <td>115.878788</td>\n",
       "    </tr>\n",
       "    <tr>\n",
       "      <th>2019-06-02</th>\n",
       "      <td>32.372644</td>\n",
       "      <td>46.659636</td>\n",
       "      <td>44.833929</td>\n",
       "      <td>320.876543</td>\n",
       "      <td>916.636364</td>\n",
       "      <td>132.492308</td>\n",
       "      <td>305.611111</td>\n",
       "      <td>741.898990</td>\n",
       "      <td>131.892308</td>\n",
       "    </tr>\n",
       "    <tr>\n",
       "      <th>2019-06-03</th>\n",
       "      <td>28.904192</td>\n",
       "      <td>43.962397</td>\n",
       "      <td>85.697323</td>\n",
       "      <td>821.010471</td>\n",
       "      <td>891.817610</td>\n",
       "      <td>270.419355</td>\n",
       "      <td>744.178010</td>\n",
       "      <td>695.792453</td>\n",
       "      <td>115.870968</td>\n",
       "    </tr>\n",
       "    <tr>\n",
       "      <th>2019-06-04</th>\n",
       "      <td>38.309282</td>\n",
       "      <td>57.369383</td>\n",
       "      <td>22.644138</td>\n",
       "      <td>1006.187097</td>\n",
       "      <td>837.184211</td>\n",
       "      <td>154.600000</td>\n",
       "      <td>908.735484</td>\n",
       "      <td>684.184211</td>\n",
       "      <td>64.477778</td>\n",
       "    </tr>\n",
       "    <tr>\n",
       "      <th>2019-06-05</th>\n",
       "      <td>52.500556</td>\n",
       "      <td>59.074780</td>\n",
       "      <td>22.220044</td>\n",
       "      <td>871.426136</td>\n",
       "      <td>647.034091</td>\n",
       "      <td>141.804598</td>\n",
       "      <td>788.664773</td>\n",
       "      <td>519.465909</td>\n",
       "      <td>128.896552</td>\n",
       "    </tr>\n",
       "    <tr>\n",
       "      <th>2019-06-06</th>\n",
       "      <td>49.334430</td>\n",
       "      <td>46.404598</td>\n",
       "      <td>18.004510</td>\n",
       "      <td>794.953216</td>\n",
       "      <td>572.264706</td>\n",
       "      <td>100.564286</td>\n",
       "      <td>699.555556</td>\n",
       "      <td>462.694118</td>\n",
       "      <td>85.135714</td>\n",
       "    </tr>\n",
       "    <tr>\n",
       "      <th>2019-06-07</th>\n",
       "      <td>39.676456</td>\n",
       "      <td>18.300918</td>\n",
       "      <td>11.164204</td>\n",
       "      <td>911.410072</td>\n",
       "      <td>573.933824</td>\n",
       "      <td>103.160494</td>\n",
       "      <td>790.964029</td>\n",
       "      <td>481.845588</td>\n",
       "      <td>103.160494</td>\n",
       "    </tr>\n",
       "    <tr>\n",
       "      <th>2019-06-08</th>\n",
       "      <td>17.311701</td>\n",
       "      <td>60.238653</td>\n",
       "      <td>71.426596</td>\n",
       "      <td>253.587786</td>\n",
       "      <td>434.396226</td>\n",
       "      <td>270.692308</td>\n",
       "      <td>215.206107</td>\n",
       "      <td>377.484277</td>\n",
       "      <td>232.000000</td>\n",
       "    </tr>\n",
       "    <tr>\n",
       "      <th>2019-06-09</th>\n",
       "      <td>55.998428</td>\n",
       "      <td>40.222750</td>\n",
       "      <td>67.926808</td>\n",
       "      <td>248.651316</td>\n",
       "      <td>678.524272</td>\n",
       "      <td>113.076923</td>\n",
       "      <td>235.914474</td>\n",
       "      <td>565.883495</td>\n",
       "      <td>75.846154</td>\n",
       "    </tr>\n",
       "  </tbody>\n",
       "</table>\n",
       "</div>"
      ],
      "text/plain": [
       "                Bounce Rate                           Sessions              \\\n",
       "Device Category     desktop     mobile     tablet      desktop      mobile   \n",
       "Date                                                                         \n",
       "2019-06-01        41.455099  64.462710  20.012573   337.921687  582.246269   \n",
       "2019-06-02        32.372644  46.659636  44.833929   320.876543  916.636364   \n",
       "2019-06-03        28.904192  43.962397  85.697323   821.010471  891.817610   \n",
       "2019-06-04        38.309282  57.369383  22.644138  1006.187097  837.184211   \n",
       "2019-06-05        52.500556  59.074780  22.220044   871.426136  647.034091   \n",
       "2019-06-06        49.334430  46.404598  18.004510   794.953216  572.264706   \n",
       "2019-06-07        39.676456  18.300918  11.164204   911.410072  573.933824   \n",
       "2019-06-08        17.311701  60.238653  71.426596   253.587786  434.396226   \n",
       "2019-06-09        55.998428  40.222750  67.926808   248.651316  678.524272   \n",
       "\n",
       "                            Total Visitors                          \n",
       "Device Category      tablet        desktop      mobile      tablet  \n",
       "Date                                                                \n",
       "2019-06-01       115.878788     314.909639  477.708955  115.878788  \n",
       "2019-06-02       132.492308     305.611111  741.898990  131.892308  \n",
       "2019-06-03       270.419355     744.178010  695.792453  115.870968  \n",
       "2019-06-04       154.600000     908.735484  684.184211   64.477778  \n",
       "2019-06-05       141.804598     788.664773  519.465909  128.896552  \n",
       "2019-06-06       100.564286     699.555556  462.694118   85.135714  \n",
       "2019-06-07       103.160494     790.964029  481.845588  103.160494  \n",
       "2019-06-08       270.692308     215.206107  377.484277  232.000000  \n",
       "2019-06-09       113.076923     235.914474  565.883495   75.846154  "
      ]
     },
     "execution_count": 4,
     "metadata": {},
     "output_type": "execute_result"
    }
   ],
   "source": [
    "traffic_unstack = traffic_stack.unstack()\n",
    "traffic_unstack.head(9)"
   ]
  },
  {
   "cell_type": "markdown",
   "metadata": {},
   "source": [
    "Dari contoh di atas, ketika kita melakukan unstack maka index dengan level paling dalam (-1) akan tergeser dan membuat level baru pada kolom. Jika diperhatikan, bentuk dataframe yang seperti ini akan membantu kita untuk membaca hasil analisis perbedaan per tanggal pada masing-masing parameter evaluasi website untuk setiap device. \n",
    "\n",
    "Bagaimana? Cukup mudah bukan untuk melakukan reshaping data menggunakan pandas? Untuk menguji pemahaman Anda terkait `stack()` dan `unstack()` silahkan kerjakan latihan di bawah ini.\n",
    "\n"
   ]
  },
  {
   "cell_type": "markdown",
   "metadata": {},
   "source": [
    "### MultiIndex Slicer\n",
    "Adakalanya kita harus melakukan analisis yang lebih spesifik. Kita telah memiliki dataframe dengan nama `traffic` yang merupakan data traffic dan kunjungan pada sebuah website. Pandas dapat membantu kita mengekstrak sebagian data pada dataframe traffic. Katakanlah kita hanya akan mengambil semua parameter evaluasi website pada device desktop. Pandas memudahkan pekerjaan tersebut dengan method `xs()`. Perhatikan contoh berikut:"
   ]
  },
  {
   "cell_type": "code",
   "execution_count": 7,
   "metadata": {
    "ExecuteTime": {
     "end_time": "2020-07-21T12:57:01.196507Z",
     "start_time": "2020-07-21T12:57:01.180561Z"
    }
   },
   "outputs": [
    {
     "data": {
      "text/html": [
       "<div>\n",
       "<style scoped>\n",
       "    .dataframe tbody tr th:only-of-type {\n",
       "        vertical-align: middle;\n",
       "    }\n",
       "\n",
       "    .dataframe tbody tr th {\n",
       "        vertical-align: top;\n",
       "    }\n",
       "\n",
       "    .dataframe thead th {\n",
       "        text-align: right;\n",
       "    }\n",
       "</style>\n",
       "<table border=\"1\" class=\"dataframe\">\n",
       "  <thead>\n",
       "    <tr style=\"text-align: right;\">\n",
       "      <th></th>\n",
       "      <th>Bounce Rate</th>\n",
       "      <th>Sessions</th>\n",
       "      <th>Total Visitors</th>\n",
       "    </tr>\n",
       "    <tr>\n",
       "      <th>Date</th>\n",
       "      <th></th>\n",
       "      <th></th>\n",
       "      <th></th>\n",
       "    </tr>\n",
       "  </thead>\n",
       "  <tbody>\n",
       "    <tr>\n",
       "      <th>2019-06-01</th>\n",
       "      <td>41.455099</td>\n",
       "      <td>337.921687</td>\n",
       "      <td>314.909639</td>\n",
       "    </tr>\n",
       "    <tr>\n",
       "      <th>2019-06-02</th>\n",
       "      <td>32.372644</td>\n",
       "      <td>320.876543</td>\n",
       "      <td>305.611111</td>\n",
       "    </tr>\n",
       "    <tr>\n",
       "      <th>2019-06-03</th>\n",
       "      <td>28.904192</td>\n",
       "      <td>821.010471</td>\n",
       "      <td>744.178010</td>\n",
       "    </tr>\n",
       "    <tr>\n",
       "      <th>2019-06-04</th>\n",
       "      <td>38.309282</td>\n",
       "      <td>1006.187097</td>\n",
       "      <td>908.735484</td>\n",
       "    </tr>\n",
       "    <tr>\n",
       "      <th>2019-06-05</th>\n",
       "      <td>52.500556</td>\n",
       "      <td>871.426136</td>\n",
       "      <td>788.664773</td>\n",
       "    </tr>\n",
       "  </tbody>\n",
       "</table>\n",
       "</div>"
      ],
      "text/plain": [
       "            Bounce Rate     Sessions  Total Visitors\n",
       "Date                                                \n",
       "2019-06-01    41.455099   337.921687      314.909639\n",
       "2019-06-02    32.372644   320.876543      305.611111\n",
       "2019-06-03    28.904192   821.010471      744.178010\n",
       "2019-06-04    38.309282  1006.187097      908.735484\n",
       "2019-06-05    52.500556   871.426136      788.664773"
      ]
     },
     "execution_count": 7,
     "metadata": {},
     "output_type": "execute_result"
    }
   ],
   "source": [
    "desktop_traf = traffic.xs(key='desktop', level='Device Category', axis=1)\n",
    "desktop_traf.head()"
   ]
  },
  {
   "cell_type": "markdown",
   "metadata": {},
   "source": [
    "Method `xs()` setidaknya membutuhkan 3 parameter yaitu key, level, dan axis dari data yang ingin kita ambil secara spesifik. Cara seperti ini akan memudahkan kita untuk menganalisis secara terpisah karena akan sangat sulit juga ketika nantinya kita melakukan agregasi dengan bentuk dataframe multiindex."
   ]
  },
  {
   "cell_type": "markdown",
   "metadata": {},
   "source": [
    "### Quiz 1\n",
    "\n",
    "1. Dengan menggunakan objek `traffic`, bagaimana cara yang dapat dilakukan untuk melakukan reshaping menjadi long format dimana level yang akan digeser adalah parameter evaluasi website(Bounce Rate, Sessions, dan Total Visitor)? Apa method yang kita gunakan?\n",
    "\n",
    ">Hint : perhatikan table dibawah ini\n",
    "\n",
    "<!-- \n",
    "Reference answer :\n",
    "\n",
    "```python\n",
    "traffic.stack(level = 0) \n",
    "```\n",
    "-->\n",
    "\n",
    "\n",
    "![](assets/stack.png) \n"
   ]
  },
  {
   "cell_type": "code",
   "execution_count": 4,
   "metadata": {},
   "outputs": [],
   "source": [
    "## Code here\n",
    "\n"
   ]
  },
  {
   "cell_type": "markdown",
   "metadata": {},
   "source": [
    "___\n",
    "\n",
    "2. Dengan menggunakan objek `traffic_stack`, bagaimana cara yang dapat dilakukan untuk melakukan reshaping wide format dimana level yang akan digeser adalah index `Date`? Apa method yang kita gunakan?\n",
    "\n",
    "<!--\n",
    "\n",
    "Reference answer :\n",
    "\n",
    "```python\n",
    "traffic_stack.unstack(level = 'Date')\n",
    "# atau\n",
    "traffic_stack.unstack(level = 0)\n",
    "```\n",
    "\n",
    "\n",
    "-->\n",
    "\n",
    "> Hint : Perhatikan bentuk table dibawah ini\n",
    "\n",
    "![](assets/unstack.jpg)"
   ]
  },
  {
   "cell_type": "code",
   "execution_count": 6,
   "metadata": {
    "ExecuteTime": {
     "end_time": "2020-07-21T12:51:48.128173Z",
     "start_time": "2020-07-21T12:51:48.124181Z"
    }
   },
   "outputs": [],
   "source": [
    "## Code here\n",
    "\n"
   ]
  },
  {
   "cell_type": "markdown",
   "metadata": {},
   "source": [
    "___\n",
    "\n",
    "3. Misalkan, pada suatu ketika, Anda diminta untuk menganalisis traffic website tersebut, namun hanya pada pengguna mobile. Anda diminta untuk membandingkan nilai `Bounce Rate`, `Sessions`, dan `Total Visitors` per harinya. Buatlah table yang bisa menggambarkan perbandingan traffic website per harinya seperti table dibawah ini.\n",
    "\n",
    "<!--\n",
    "\n",
    "Reference answer\n",
    "\n",
    "```python\n",
    "traffic.xs('mobile', axis=1, level='Device Category')\n",
    "```\n",
    "-->\n",
    "\n",
    "![](assets/xs_quiz.jpg)"
   ]
  },
  {
   "cell_type": "code",
   "execution_count": 9,
   "metadata": {
    "ExecuteTime": {
     "end_time": "2020-07-21T13:08:19.971998Z",
     "start_time": "2020-07-21T13:08:19.968978Z"
    }
   },
   "outputs": [],
   "source": [
    "## Code here\n",
    "\n"
   ]
  },
  {
   "cell_type": "markdown",
   "metadata": {},
   "source": [
    "### Melt\n",
    "Pada bagian sebelumnya, Anda telah berhasil memisahkan data evaluasi website pada device desktop. Bagaimana jika Anda ingin menjadikan satu setiap parameter evaluasi website ke dalam satu kolom? Pandas menyediakan sebuah method yaitu `melt()`. Perhatikan contoh di bawah ini!"
   ]
  },
  {
   "cell_type": "code",
   "execution_count": 24,
   "metadata": {
    "ExecuteTime": {
     "end_time": "2020-07-21T13:37:24.194987Z",
     "start_time": "2020-07-21T13:37:24.182021Z"
    }
   },
   "outputs": [
    {
     "data": {
      "text/html": [
       "<div>\n",
       "<style scoped>\n",
       "    .dataframe tbody tr th:only-of-type {\n",
       "        vertical-align: middle;\n",
       "    }\n",
       "\n",
       "    .dataframe tbody tr th {\n",
       "        vertical-align: top;\n",
       "    }\n",
       "\n",
       "    .dataframe thead th {\n",
       "        text-align: right;\n",
       "    }\n",
       "</style>\n",
       "<table border=\"1\" class=\"dataframe\">\n",
       "  <thead>\n",
       "    <tr style=\"text-align: right;\">\n",
       "      <th></th>\n",
       "      <th>variable</th>\n",
       "      <th>value</th>\n",
       "    </tr>\n",
       "  </thead>\n",
       "  <tbody>\n",
       "    <tr>\n",
       "      <th>0</th>\n",
       "      <td>Bounce Rate</td>\n",
       "      <td>41.455099</td>\n",
       "    </tr>\n",
       "    <tr>\n",
       "      <th>1</th>\n",
       "      <td>Bounce Rate</td>\n",
       "      <td>32.372644</td>\n",
       "    </tr>\n",
       "    <tr>\n",
       "      <th>2</th>\n",
       "      <td>Bounce Rate</td>\n",
       "      <td>28.904192</td>\n",
       "    </tr>\n",
       "    <tr>\n",
       "      <th>3</th>\n",
       "      <td>Bounce Rate</td>\n",
       "      <td>38.309282</td>\n",
       "    </tr>\n",
       "    <tr>\n",
       "      <th>4</th>\n",
       "      <td>Bounce Rate</td>\n",
       "      <td>52.500556</td>\n",
       "    </tr>\n",
       "  </tbody>\n",
       "</table>\n",
       "</div>"
      ],
      "text/plain": [
       "      variable      value\n",
       "0  Bounce Rate  41.455099\n",
       "1  Bounce Rate  32.372644\n",
       "2  Bounce Rate  28.904192\n",
       "3  Bounce Rate  38.309282\n",
       "4  Bounce Rate  52.500556"
      ]
     },
     "execution_count": 24,
     "metadata": {},
     "output_type": "execute_result"
    }
   ],
   "source": [
    "desktop_melt = desktop_traf.melt()\n",
    "desktop_melt.head()"
   ]
  },
  {
   "cell_type": "markdown",
   "metadata": {},
   "source": [
    "Secara default, `melt()` melakukan unpivot data dari bentuk dataframe dengan format wide ke format long dengan tidak menyertakan id variabel dari dataframe tersebut. Method ini memiliki kemiripan dengan method `stack()` yang telah Anda pelajari sebelumnya. \n"
   ]
  },
  {
   "cell_type": "markdown",
   "metadata": {},
   "source": [
    "Terkadang saat kita memiliki sebuah DataFrame dalam bentuk long format kita cukup sulit membandingkan value berdasarkan kondisi tertentu. Perhatikan DataFrame dibawah ini dalam bentuk long format.\n",
    "\n",
    "Misal kita ingin membandingkan informasi pada kolom `variable` (Bounce Rate, Sessions, dan Total Visitors) per harinya. \n"
   ]
  },
  {
   "cell_type": "code",
   "execution_count": 33,
   "metadata": {
    "ExecuteTime": {
     "end_time": "2020-07-21T13:48:14.687677Z",
     "start_time": "2020-07-21T13:48:14.669759Z"
    },
    "scrolled": true
   },
   "outputs": [
    {
     "data": {
      "text/html": [
       "<div>\n",
       "<style scoped>\n",
       "    .dataframe tbody tr th:only-of-type {\n",
       "        vertical-align: middle;\n",
       "    }\n",
       "\n",
       "    .dataframe tbody tr th {\n",
       "        vertical-align: top;\n",
       "    }\n",
       "\n",
       "    .dataframe thead th {\n",
       "        text-align: right;\n",
       "    }\n",
       "</style>\n",
       "<table border=\"1\" class=\"dataframe\">\n",
       "  <thead>\n",
       "    <tr style=\"text-align: right;\">\n",
       "      <th></th>\n",
       "      <th>Date</th>\n",
       "      <th>variable</th>\n",
       "      <th>value</th>\n",
       "    </tr>\n",
       "  </thead>\n",
       "  <tbody>\n",
       "    <tr>\n",
       "      <th>0</th>\n",
       "      <td>2019-06-01</td>\n",
       "      <td>Bounce Rate</td>\n",
       "      <td>64.462710</td>\n",
       "    </tr>\n",
       "    <tr>\n",
       "      <th>1</th>\n",
       "      <td>2019-06-02</td>\n",
       "      <td>Bounce Rate</td>\n",
       "      <td>46.659636</td>\n",
       "    </tr>\n",
       "    <tr>\n",
       "      <th>2</th>\n",
       "      <td>2019-06-03</td>\n",
       "      <td>Bounce Rate</td>\n",
       "      <td>43.962397</td>\n",
       "    </tr>\n",
       "    <tr>\n",
       "      <th>3</th>\n",
       "      <td>2019-06-04</td>\n",
       "      <td>Bounce Rate</td>\n",
       "      <td>57.369383</td>\n",
       "    </tr>\n",
       "    <tr>\n",
       "      <th>4</th>\n",
       "      <td>2019-06-05</td>\n",
       "      <td>Bounce Rate</td>\n",
       "      <td>59.074780</td>\n",
       "    </tr>\n",
       "  </tbody>\n",
       "</table>\n",
       "</div>"
      ],
      "text/plain": [
       "         Date     variable      value\n",
       "0  2019-06-01  Bounce Rate  64.462710\n",
       "1  2019-06-02  Bounce Rate  46.659636\n",
       "2  2019-06-03  Bounce Rate  43.962397\n",
       "3  2019-06-04  Bounce Rate  57.369383\n",
       "4  2019-06-05  Bounce Rate  59.074780"
      ]
     },
     "execution_count": 33,
     "metadata": {},
     "output_type": "execute_result"
    }
   ],
   "source": [
    "df = traffic.xs('mobile', axis=1, level='Device Category').reset_index().melt(id_vars='Date')\n",
    "df.head()"
   ]
  },
  {
   "cell_type": "markdown",
   "metadata": {},
   "source": [
    "Apabila data yang kita miliki masih dalam keadaan long format, tentunya kita akan sangat sulit membandingkan secara langsung informasi pada kolom `variable` tersebut. Oleh karena itu kita memiliki kebutuhan untuk mengubah format DataFrame kita menjadi wide format. Kita bisa mengubah format DataFrame yang kita miliki dari long format menjadi wide format dengan menggunakan method ['pivot()'](https://pandas.pydata.org/pandas-docs/stable/reference/api/pandas.DataFrame.pivot.html). \n",
    "\n",
    "Perhatikan hasil wide format pada objek DataFrame `df` dibawah ini."
   ]
  },
  {
   "cell_type": "code",
   "execution_count": 35,
   "metadata": {
    "ExecuteTime": {
     "end_time": "2020-07-21T13:55:46.414745Z",
     "start_time": "2020-07-21T13:55:46.402803Z"
    },
    "scrolled": true
   },
   "outputs": [
    {
     "data": {
      "text/html": [
       "<div>\n",
       "<style scoped>\n",
       "    .dataframe tbody tr th:only-of-type {\n",
       "        vertical-align: middle;\n",
       "    }\n",
       "\n",
       "    .dataframe tbody tr th {\n",
       "        vertical-align: top;\n",
       "    }\n",
       "\n",
       "    .dataframe thead th {\n",
       "        text-align: right;\n",
       "    }\n",
       "</style>\n",
       "<table border=\"1\" class=\"dataframe\">\n",
       "  <thead>\n",
       "    <tr style=\"text-align: right;\">\n",
       "      <th>variable</th>\n",
       "      <th>Bounce Rate</th>\n",
       "      <th>Sessions</th>\n",
       "      <th>Total Visitors</th>\n",
       "    </tr>\n",
       "    <tr>\n",
       "      <th>Date</th>\n",
       "      <th></th>\n",
       "      <th></th>\n",
       "      <th></th>\n",
       "    </tr>\n",
       "  </thead>\n",
       "  <tbody>\n",
       "    <tr>\n",
       "      <th>2019-06-01</th>\n",
       "      <td>64.462710</td>\n",
       "      <td>582.246269</td>\n",
       "      <td>477.708955</td>\n",
       "    </tr>\n",
       "    <tr>\n",
       "      <th>2019-06-02</th>\n",
       "      <td>46.659636</td>\n",
       "      <td>916.636364</td>\n",
       "      <td>741.898990</td>\n",
       "    </tr>\n",
       "    <tr>\n",
       "      <th>2019-06-03</th>\n",
       "      <td>43.962397</td>\n",
       "      <td>891.817610</td>\n",
       "      <td>695.792453</td>\n",
       "    </tr>\n",
       "    <tr>\n",
       "      <th>2019-06-04</th>\n",
       "      <td>57.369383</td>\n",
       "      <td>837.184211</td>\n",
       "      <td>684.184211</td>\n",
       "    </tr>\n",
       "    <tr>\n",
       "      <th>2019-06-05</th>\n",
       "      <td>59.074780</td>\n",
       "      <td>647.034091</td>\n",
       "      <td>519.465909</td>\n",
       "    </tr>\n",
       "  </tbody>\n",
       "</table>\n",
       "</div>"
      ],
      "text/plain": [
       "variable    Bounce Rate    Sessions  Total Visitors\n",
       "Date                                               \n",
       "2019-06-01    64.462710  582.246269      477.708955\n",
       "2019-06-02    46.659636  916.636364      741.898990\n",
       "2019-06-03    43.962397  891.817610      695.792453\n",
       "2019-06-04    57.369383  837.184211      684.184211\n",
       "2019-06-05    59.074780  647.034091      519.465909"
      ]
     },
     "execution_count": 35,
     "metadata": {},
     "output_type": "execute_result"
    }
   ],
   "source": [
    "df.pivot(index='Date', columns='variable', values='value').head()"
   ]
  },
  {
   "cell_type": "markdown",
   "metadata": {},
   "source": [
    "### Quiz 2\n",
    "\n",
    "1. Bagaimana jika Anda ingin tetap menampilkan informasi pada index `Date`? Lakukanlah reshaping dengan method `melt()` berdasarkan objek `desktop_traf` dan simpan ke dalam objek dengan nama `desktop_melt_new`.\n",
    "\n",
    "> Hint : Anda bisa saja membutuhkan method `reset_index()` untuk menghapus index menjadi suatu kolom tertentu. Pada method `melt()` terdapat parameter `id_vars` yang bisa kita manfaatkan untuk membuat kolom id baru pada hasil unstack menggunakan `melt()`. \n",
    "\n",
    "<!--\n",
    "\n",
    "Reference answer\n",
    "\n",
    "```python\n",
    "\n",
    "desktop_melt_new = desktop_traf.reset_index().melt(id_vars=\"Date\")\n",
    "desktop_melt_new.head()\n",
    "```\n",
    "\n",
    "-->\n",
    "\n",
    "![](assets/melt_kc.jpg)"
   ]
  },
  {
   "cell_type": "code",
   "execution_count": 15,
   "metadata": {
    "ExecuteTime": {
     "end_time": "2020-07-21T13:24:37.216632Z",
     "start_time": "2020-07-21T13:24:37.213645Z"
    }
   },
   "outputs": [],
   "source": [
    "## Code Here\n",
    "\n"
   ]
  },
  {
   "cell_type": "markdown",
   "metadata": {},
   "source": [
    "___\n",
    "\n",
    "2. Pada DataFrame `desktop_melt_new` yang sudah Anda buat sebelumnya, kembalikanlah DataFrame tersebut menjadi long format seperi objek `desktop_traf`.\n",
    "\n",
    "> Hint : Gunakanlah method `pivot()` untuk mengembalikan DataFrame dalam bentuk long format menjadi wide format\n",
    "\n",
    "<!--\n",
    "\n",
    "Reference answer :\n",
    "\n",
    "```python\n",
    "desktop_melt_new.pivot(index='Date', columns='variable', values='value').head()\n",
    "```\n",
    "\n",
    "-->\n"
   ]
  },
  {
   "cell_type": "code",
   "execution_count": 36,
   "metadata": {
    "ExecuteTime": {
     "end_time": "2020-07-21T14:07:42.355038Z",
     "start_time": "2020-07-21T14:07:42.351050Z"
    }
   },
   "outputs": [],
   "source": [
    "## Code Here\n",
    "\n"
   ]
  },
  {
   "cell_type": "markdown",
   "metadata": {},
   "source": [
    "## Groupby Aggregation\n",
    "\n",
    "Pada materi minggu kedua yaitu **Exploratory Data Analysis** Anda telah belajar melakukan tabulasi silang antar kolom dengan menggunakan method `crosstab()` dan telah melakukan pivoting table menggunakan method `pivot_table()`. Kedua method tersebut digunakan untuk menampilkan ringkasan dari sebuah data. Anda juga telah berhasil mengkombinasikannya dengan fungsi agregasi. \n",
    "\n",
    "Pada bagian ini, Anda akan dikenalkan dengan satu lagi method melakukan ringkasan dan mengelompokkan data berdasarkan variabel tertentu. `pandas` dapat memudahkan Anda dalam mengelompokkan data dengan menggunakan method `groupby()`. Perhatikan contoh berikut ini:"
   ]
  },
  {
   "cell_type": "code",
   "execution_count": 27,
   "metadata": {},
   "outputs": [
    {
     "data": {
      "text/html": [
       "<div>\n",
       "<style scoped>\n",
       "    .dataframe tbody tr th:only-of-type {\n",
       "        vertical-align: middle;\n",
       "    }\n",
       "\n",
       "    .dataframe tbody tr th {\n",
       "        vertical-align: top;\n",
       "    }\n",
       "\n",
       "    .dataframe thead th {\n",
       "        text-align: right;\n",
       "    }\n",
       "</style>\n",
       "<table border=\"1\" class=\"dataframe\">\n",
       "  <thead>\n",
       "    <tr style=\"text-align: right;\">\n",
       "      <th></th>\n",
       "      <th>Bounce Rate</th>\n",
       "      <th>Sessions</th>\n",
       "      <th>Total Visitors</th>\n",
       "    </tr>\n",
       "    <tr>\n",
       "      <th>Date</th>\n",
       "      <th></th>\n",
       "      <th></th>\n",
       "      <th></th>\n",
       "    </tr>\n",
       "  </thead>\n",
       "  <tbody>\n",
       "    <tr>\n",
       "      <th>2019-06-01</th>\n",
       "      <td>41.455099</td>\n",
       "      <td>337.921687</td>\n",
       "      <td>314.909639</td>\n",
       "    </tr>\n",
       "    <tr>\n",
       "      <th>2019-06-02</th>\n",
       "      <td>32.372644</td>\n",
       "      <td>320.876543</td>\n",
       "      <td>305.611111</td>\n",
       "    </tr>\n",
       "    <tr>\n",
       "      <th>2019-06-03</th>\n",
       "      <td>28.904192</td>\n",
       "      <td>821.010471</td>\n",
       "      <td>744.178010</td>\n",
       "    </tr>\n",
       "    <tr>\n",
       "      <th>2019-06-04</th>\n",
       "      <td>38.309282</td>\n",
       "      <td>1006.187097</td>\n",
       "      <td>908.735484</td>\n",
       "    </tr>\n",
       "    <tr>\n",
       "      <th>2019-06-05</th>\n",
       "      <td>52.500556</td>\n",
       "      <td>871.426136</td>\n",
       "      <td>788.664773</td>\n",
       "    </tr>\n",
       "  </tbody>\n",
       "</table>\n",
       "</div>"
      ],
      "text/plain": [
       "            Bounce Rate     Sessions  Total Visitors\n",
       "Date                                                \n",
       "2019-06-01    41.455099   337.921687      314.909639\n",
       "2019-06-02    32.372644   320.876543      305.611111\n",
       "2019-06-03    28.904192   821.010471      744.178010\n",
       "2019-06-04    38.309282  1006.187097      908.735484\n",
       "2019-06-05    52.500556   871.426136      788.664773"
      ]
     },
     "execution_count": 27,
     "metadata": {},
     "output_type": "execute_result"
    }
   ],
   "source": [
    "desktop_traf.head()"
   ]
  },
  {
   "cell_type": "code",
   "execution_count": 39,
   "metadata": {
    "ExecuteTime": {
     "end_time": "2020-07-21T14:18:14.989323Z",
     "start_time": "2020-07-21T14:18:14.960407Z"
    }
   },
   "outputs": [
    {
     "data": {
      "text/html": [
       "<div>\n",
       "<style scoped>\n",
       "    .dataframe tbody tr th:only-of-type {\n",
       "        vertical-align: middle;\n",
       "    }\n",
       "\n",
       "    .dataframe tbody tr th {\n",
       "        vertical-align: top;\n",
       "    }\n",
       "\n",
       "    .dataframe thead th {\n",
       "        text-align: right;\n",
       "    }\n",
       "</style>\n",
       "<table border=\"1\" class=\"dataframe\">\n",
       "  <thead>\n",
       "    <tr style=\"text-align: right;\">\n",
       "      <th></th>\n",
       "      <th>Bounce Rate</th>\n",
       "      <th>Sessions</th>\n",
       "      <th>Total Visitors</th>\n",
       "      <th>Weekday</th>\n",
       "      <th>Weeknumber</th>\n",
       "      <th>Visitors Growth</th>\n",
       "    </tr>\n",
       "    <tr>\n",
       "      <th>Date</th>\n",
       "      <th></th>\n",
       "      <th></th>\n",
       "      <th></th>\n",
       "      <th></th>\n",
       "      <th></th>\n",
       "      <th></th>\n",
       "    </tr>\n",
       "  </thead>\n",
       "  <tbody>\n",
       "    <tr>\n",
       "      <th>2019-06-26</th>\n",
       "      <td>32.39</td>\n",
       "      <td>1078.00</td>\n",
       "      <td>894.44</td>\n",
       "      <td>Wednesday</td>\n",
       "      <td>26</td>\n",
       "      <td>165.39</td>\n",
       "    </tr>\n",
       "    <tr>\n",
       "      <th>2019-06-27</th>\n",
       "      <td>50.78</td>\n",
       "      <td>953.48</td>\n",
       "      <td>813.15</td>\n",
       "      <td>Thursday</td>\n",
       "      <td>26</td>\n",
       "      <td>-81.29</td>\n",
       "    </tr>\n",
       "    <tr>\n",
       "      <th>2019-06-28</th>\n",
       "      <td>42.41</td>\n",
       "      <td>728.85</td>\n",
       "      <td>604.89</td>\n",
       "      <td>Friday</td>\n",
       "      <td>26</td>\n",
       "      <td>-208.26</td>\n",
       "    </tr>\n",
       "    <tr>\n",
       "      <th>2019-06-29</th>\n",
       "      <td>35.24</td>\n",
       "      <td>210.68</td>\n",
       "      <td>192.32</td>\n",
       "      <td>Saturday</td>\n",
       "      <td>26</td>\n",
       "      <td>-412.57</td>\n",
       "    </tr>\n",
       "    <tr>\n",
       "      <th>2019-06-30</th>\n",
       "      <td>40.83</td>\n",
       "      <td>228.38</td>\n",
       "      <td>196.84</td>\n",
       "      <td>Sunday</td>\n",
       "      <td>26</td>\n",
       "      <td>4.52</td>\n",
       "    </tr>\n",
       "  </tbody>\n",
       "</table>\n",
       "</div>"
      ],
      "text/plain": [
       "            Bounce Rate  Sessions  Total Visitors    Weekday  Weeknumber  \\\n",
       "Date                                                                       \n",
       "2019-06-26        32.39   1078.00          894.44  Wednesday          26   \n",
       "2019-06-27        50.78    953.48          813.15   Thursday          26   \n",
       "2019-06-28        42.41    728.85          604.89     Friday          26   \n",
       "2019-06-29        35.24    210.68          192.32   Saturday          26   \n",
       "2019-06-30        40.83    228.38          196.84     Sunday          26   \n",
       "\n",
       "            Visitors Growth  \n",
       "Date                         \n",
       "2019-06-26           165.39  \n",
       "2019-06-27           -81.29  \n",
       "2019-06-28          -208.26  \n",
       "2019-06-29          -412.57  \n",
       "2019-06-30             4.52  "
      ]
     },
     "execution_count": 39,
     "metadata": {},
     "output_type": "execute_result"
    }
   ],
   "source": [
    "# membuat dataframe baru dengan nama desktop_traffic\n",
    "desktop_traffic = desktop_traf.copy()\n",
    "\n",
    "# extract nilai datetime dari index\n",
    "desktop_traffic.index = pd.to_datetime(desktop_traffic.index)\n",
    "desktop_traffic['Weekday'] = desktop_traffic.index.day_name()\n",
    "desktop_traffic['Weeknumber'] = desktop_traffic.index.week\n",
    "\n",
    "# membuat variabel 'Visitors Growth'\n",
    "desktop_traffic['Visitors Growth'] = desktop_traffic['Total Visitors'].diff()\n",
    "desktop_traffic = desktop_traffic.round(2)\n",
    "desktop_traffic.tail()"
   ]
  },
  {
   "cell_type": "markdown",
   "metadata": {},
   "source": [
    "Pada objek `desktop_traffic` diatas, kita akan coba mencari rata-rata setiap kolom datanya per hari (berdasarkan informasi kolom `Weekday`)."
   ]
  },
  {
   "cell_type": "code",
   "execution_count": 40,
   "metadata": {
    "ExecuteTime": {
     "end_time": "2020-07-21T14:20:44.242790Z",
     "start_time": "2020-07-21T14:20:44.013239Z"
    }
   },
   "outputs": [
    {
     "data": {
      "text/html": [
       "<div>\n",
       "<style scoped>\n",
       "    .dataframe tbody tr th:only-of-type {\n",
       "        vertical-align: middle;\n",
       "    }\n",
       "\n",
       "    .dataframe tbody tr th {\n",
       "        vertical-align: top;\n",
       "    }\n",
       "\n",
       "    .dataframe thead th {\n",
       "        text-align: right;\n",
       "    }\n",
       "</style>\n",
       "<table border=\"1\" class=\"dataframe\">\n",
       "  <thead>\n",
       "    <tr style=\"text-align: right;\">\n",
       "      <th></th>\n",
       "      <th>Bounce Rate</th>\n",
       "      <th>Sessions</th>\n",
       "      <th>Total Visitors</th>\n",
       "      <th>Weeknumber</th>\n",
       "      <th>Visitors Growth</th>\n",
       "    </tr>\n",
       "    <tr>\n",
       "      <th>Weekday</th>\n",
       "      <th></th>\n",
       "      <th></th>\n",
       "      <th></th>\n",
       "      <th></th>\n",
       "      <th></th>\n",
       "    </tr>\n",
       "  </thead>\n",
       "  <tbody>\n",
       "    <tr>\n",
       "      <th>Tuesday</th>\n",
       "      <td>41.1150</td>\n",
       "      <td>996.1050</td>\n",
       "      <td>871.9025</td>\n",
       "      <td>24.5</td>\n",
       "      <td>87.5075</td>\n",
       "    </tr>\n",
       "    <tr>\n",
       "      <th>Wednesday</th>\n",
       "      <td>38.0475</td>\n",
       "      <td>912.0525</td>\n",
       "      <td>798.9825</td>\n",
       "      <td>24.5</td>\n",
       "      <td>-72.9200</td>\n",
       "    </tr>\n",
       "    <tr>\n",
       "      <th>Monday</th>\n",
       "      <td>33.0600</td>\n",
       "      <td>880.3275</td>\n",
       "      <td>784.3950</td>\n",
       "      <td>24.5</td>\n",
       "      <td>502.5075</td>\n",
       "    </tr>\n",
       "    <tr>\n",
       "      <th>Thursday</th>\n",
       "      <td>45.3700</td>\n",
       "      <td>860.4325</td>\n",
       "      <td>761.2700</td>\n",
       "      <td>24.5</td>\n",
       "      <td>-37.7125</td>\n",
       "    </tr>\n",
       "    <tr>\n",
       "      <th>Friday</th>\n",
       "      <td>40.0825</td>\n",
       "      <td>735.4675</td>\n",
       "      <td>620.0450</td>\n",
       "      <td>24.5</td>\n",
       "      <td>-141.2250</td>\n",
       "    </tr>\n",
       "    <tr>\n",
       "      <th>Sunday</th>\n",
       "      <td>39.6300</td>\n",
       "      <td>291.3180</td>\n",
       "      <td>264.8780</td>\n",
       "      <td>24.0</td>\n",
       "      <td>17.0400</td>\n",
       "    </tr>\n",
       "    <tr>\n",
       "      <th>Saturday</th>\n",
       "      <td>35.6100</td>\n",
       "      <td>274.5680</td>\n",
       "      <td>247.8380</td>\n",
       "      <td>24.0</td>\n",
       "      <td>-388.9750</td>\n",
       "    </tr>\n",
       "  </tbody>\n",
       "</table>\n",
       "</div>"
      ],
      "text/plain": [
       "           Bounce Rate  Sessions  Total Visitors  Weeknumber  Visitors Growth\n",
       "Weekday                                                                      \n",
       "Tuesday        41.1150  996.1050        871.9025        24.5          87.5075\n",
       "Wednesday      38.0475  912.0525        798.9825        24.5         -72.9200\n",
       "Monday         33.0600  880.3275        784.3950        24.5         502.5075\n",
       "Thursday       45.3700  860.4325        761.2700        24.5         -37.7125\n",
       "Friday         40.0825  735.4675        620.0450        24.5        -141.2250\n",
       "Sunday         39.6300  291.3180        264.8780        24.0          17.0400\n",
       "Saturday       35.6100  274.5680        247.8380        24.0        -388.9750"
      ]
     },
     "execution_count": 40,
     "metadata": {},
     "output_type": "execute_result"
    }
   ],
   "source": [
    "desktop_traffic.groupby('Weekday').mean().sort_values('Total Visitors', ascending=False)"
   ]
  },
  {
   "cell_type": "markdown",
   "metadata": {},
   "source": [
    "Jika diperhatikan rata-rata kunjungan pengguna website paling tinggi adalah pada hari Selasa dan pertumbuhan kunjungan website menurun pada hari Sabtu. Kita juga dapat mengelompokkan data lebih dari 1 kolom. \n",
    "\n",
    "Berikut ini contoh jika kita ingin melihat rata-rata evaluasi traffic website berdasarkan hari di setiap minggunya. "
   ]
  },
  {
   "cell_type": "code",
   "execution_count": 41,
   "metadata": {
    "ExecuteTime": {
     "end_time": "2020-07-21T14:25:07.365290Z",
     "start_time": "2020-07-21T14:25:07.346331Z"
    }
   },
   "outputs": [
    {
     "data": {
      "text/html": [
       "<div>\n",
       "<style scoped>\n",
       "    .dataframe tbody tr th:only-of-type {\n",
       "        vertical-align: middle;\n",
       "    }\n",
       "\n",
       "    .dataframe tbody tr th {\n",
       "        vertical-align: top;\n",
       "    }\n",
       "\n",
       "    .dataframe thead th {\n",
       "        text-align: right;\n",
       "    }\n",
       "</style>\n",
       "<table border=\"1\" class=\"dataframe\">\n",
       "  <thead>\n",
       "    <tr style=\"text-align: right;\">\n",
       "      <th></th>\n",
       "      <th></th>\n",
       "      <th>Bounce Rate</th>\n",
       "      <th>Sessions</th>\n",
       "      <th>Total Visitors</th>\n",
       "      <th>Visitors Growth</th>\n",
       "    </tr>\n",
       "    <tr>\n",
       "      <th>Weekday</th>\n",
       "      <th>Weeknumber</th>\n",
       "      <th></th>\n",
       "      <th></th>\n",
       "      <th></th>\n",
       "      <th></th>\n",
       "    </tr>\n",
       "  </thead>\n",
       "  <tbody>\n",
       "    <tr>\n",
       "      <th rowspan=\"4\" valign=\"top\">Friday</th>\n",
       "      <th>23</th>\n",
       "      <td>39.68</td>\n",
       "      <td>911.41</td>\n",
       "      <td>790.96</td>\n",
       "      <td>91.40</td>\n",
       "    </tr>\n",
       "    <tr>\n",
       "      <th>24</th>\n",
       "      <td>56.64</td>\n",
       "      <td>656.69</td>\n",
       "      <td>553.50</td>\n",
       "      <td>-117.47</td>\n",
       "    </tr>\n",
       "    <tr>\n",
       "      <th>25</th>\n",
       "      <td>21.60</td>\n",
       "      <td>644.92</td>\n",
       "      <td>530.83</td>\n",
       "      <td>-330.57</td>\n",
       "    </tr>\n",
       "    <tr>\n",
       "      <th>26</th>\n",
       "      <td>42.41</td>\n",
       "      <td>728.85</td>\n",
       "      <td>604.89</td>\n",
       "      <td>-208.26</td>\n",
       "    </tr>\n",
       "    <tr>\n",
       "      <th rowspan=\"4\" valign=\"top\">Monday</th>\n",
       "      <th>23</th>\n",
       "      <td>28.90</td>\n",
       "      <td>821.01</td>\n",
       "      <td>744.18</td>\n",
       "      <td>438.57</td>\n",
       "    </tr>\n",
       "    <tr>\n",
       "      <th>24</th>\n",
       "      <td>26.18</td>\n",
       "      <td>985.91</td>\n",
       "      <td>891.05</td>\n",
       "      <td>655.14</td>\n",
       "    </tr>\n",
       "    <tr>\n",
       "      <th>25</th>\n",
       "      <td>35.96</td>\n",
       "      <td>833.20</td>\n",
       "      <td>709.42</td>\n",
       "      <td>480.39</td>\n",
       "    </tr>\n",
       "    <tr>\n",
       "      <th>26</th>\n",
       "      <td>41.20</td>\n",
       "      <td>881.19</td>\n",
       "      <td>792.93</td>\n",
       "      <td>435.93</td>\n",
       "    </tr>\n",
       "    <tr>\n",
       "      <th rowspan=\"2\" valign=\"top\">Saturday</th>\n",
       "      <th>22</th>\n",
       "      <td>41.46</td>\n",
       "      <td>337.92</td>\n",
       "      <td>314.91</td>\n",
       "      <td>NaN</td>\n",
       "    </tr>\n",
       "    <tr>\n",
       "      <th>23</th>\n",
       "      <td>17.31</td>\n",
       "      <td>253.59</td>\n",
       "      <td>215.21</td>\n",
       "      <td>-575.75</td>\n",
       "    </tr>\n",
       "  </tbody>\n",
       "</table>\n",
       "</div>"
      ],
      "text/plain": [
       "                     Bounce Rate  Sessions  Total Visitors  Visitors Growth\n",
       "Weekday  Weeknumber                                                        \n",
       "Friday   23                39.68    911.41          790.96            91.40\n",
       "         24                56.64    656.69          553.50          -117.47\n",
       "         25                21.60    644.92          530.83          -330.57\n",
       "         26                42.41    728.85          604.89          -208.26\n",
       "Monday   23                28.90    821.01          744.18           438.57\n",
       "         24                26.18    985.91          891.05           655.14\n",
       "         25                35.96    833.20          709.42           480.39\n",
       "         26                41.20    881.19          792.93           435.93\n",
       "Saturday 22                41.46    337.92          314.91              NaN\n",
       "         23                17.31    253.59          215.21          -575.75"
      ]
     },
     "execution_count": 41,
     "metadata": {},
     "output_type": "execute_result"
    }
   ],
   "source": [
    "desktop_traffic.groupby(by = ['Weekday','Weeknumber']).mean().head(10)"
   ]
  },
  {
   "cell_type": "markdown",
   "metadata": {},
   "source": [
    "Anda dapat mengkombinasikan juga method `groupby()` dengan method `agg()` untuk menggunakan fungsi agregasi yang berbeda pada setiap variabel numerik dari data Anda."
   ]
  },
  {
   "cell_type": "markdown",
   "metadata": {},
   "source": [
    "### Quiz 3\n",
    "Perhatikan data traffic di bawah ini!"
   ]
  },
  {
   "cell_type": "code",
   "execution_count": 37,
   "metadata": {},
   "outputs": [
    {
     "data": {
      "text/html": [
       "<div>\n",
       "<style scoped>\n",
       "    .dataframe tbody tr th:only-of-type {\n",
       "        vertical-align: middle;\n",
       "    }\n",
       "\n",
       "    .dataframe tbody tr th {\n",
       "        vertical-align: top;\n",
       "    }\n",
       "\n",
       "    .dataframe thead tr th {\n",
       "        text-align: left;\n",
       "    }\n",
       "\n",
       "    .dataframe thead tr:last-of-type th {\n",
       "        text-align: right;\n",
       "    }\n",
       "</style>\n",
       "<table border=\"1\" class=\"dataframe\">\n",
       "  <thead>\n",
       "    <tr>\n",
       "      <th></th>\n",
       "      <th colspan=\"3\" halign=\"left\">Bounce Rate</th>\n",
       "      <th colspan=\"3\" halign=\"left\">Sessions</th>\n",
       "      <th colspan=\"3\" halign=\"left\">Total Visitors</th>\n",
       "    </tr>\n",
       "    <tr>\n",
       "      <th>Device Category</th>\n",
       "      <th>desktop</th>\n",
       "      <th>mobile</th>\n",
       "      <th>tablet</th>\n",
       "      <th>desktop</th>\n",
       "      <th>mobile</th>\n",
       "      <th>tablet</th>\n",
       "      <th>desktop</th>\n",
       "      <th>mobile</th>\n",
       "      <th>tablet</th>\n",
       "    </tr>\n",
       "    <tr>\n",
       "      <th>Date</th>\n",
       "      <th></th>\n",
       "      <th></th>\n",
       "      <th></th>\n",
       "      <th></th>\n",
       "      <th></th>\n",
       "      <th></th>\n",
       "      <th></th>\n",
       "      <th></th>\n",
       "      <th></th>\n",
       "    </tr>\n",
       "  </thead>\n",
       "  <tbody>\n",
       "    <tr>\n",
       "      <th>2019-06-01</th>\n",
       "      <td>41.455099</td>\n",
       "      <td>64.462710</td>\n",
       "      <td>20.012573</td>\n",
       "      <td>337.921687</td>\n",
       "      <td>582.246269</td>\n",
       "      <td>115.878788</td>\n",
       "      <td>314.909639</td>\n",
       "      <td>477.708955</td>\n",
       "      <td>115.878788</td>\n",
       "    </tr>\n",
       "    <tr>\n",
       "      <th>2019-06-02</th>\n",
       "      <td>32.372644</td>\n",
       "      <td>46.659636</td>\n",
       "      <td>44.833929</td>\n",
       "      <td>320.876543</td>\n",
       "      <td>916.636364</td>\n",
       "      <td>132.492308</td>\n",
       "      <td>305.611111</td>\n",
       "      <td>741.898990</td>\n",
       "      <td>131.892308</td>\n",
       "    </tr>\n",
       "    <tr>\n",
       "      <th>2019-06-03</th>\n",
       "      <td>28.904192</td>\n",
       "      <td>43.962397</td>\n",
       "      <td>85.697323</td>\n",
       "      <td>821.010471</td>\n",
       "      <td>891.817610</td>\n",
       "      <td>270.419355</td>\n",
       "      <td>744.178010</td>\n",
       "      <td>695.792453</td>\n",
       "      <td>115.870968</td>\n",
       "    </tr>\n",
       "    <tr>\n",
       "      <th>2019-06-04</th>\n",
       "      <td>38.309282</td>\n",
       "      <td>57.369383</td>\n",
       "      <td>22.644138</td>\n",
       "      <td>1006.187097</td>\n",
       "      <td>837.184211</td>\n",
       "      <td>154.600000</td>\n",
       "      <td>908.735484</td>\n",
       "      <td>684.184211</td>\n",
       "      <td>64.477778</td>\n",
       "    </tr>\n",
       "    <tr>\n",
       "      <th>2019-06-05</th>\n",
       "      <td>52.500556</td>\n",
       "      <td>59.074780</td>\n",
       "      <td>22.220044</td>\n",
       "      <td>871.426136</td>\n",
       "      <td>647.034091</td>\n",
       "      <td>141.804598</td>\n",
       "      <td>788.664773</td>\n",
       "      <td>519.465909</td>\n",
       "      <td>128.896552</td>\n",
       "    </tr>\n",
       "  </tbody>\n",
       "</table>\n",
       "</div>"
      ],
      "text/plain": [
       "                Bounce Rate                           Sessions              \\\n",
       "Device Category     desktop     mobile     tablet      desktop      mobile   \n",
       "Date                                                                         \n",
       "2019-06-01        41.455099  64.462710  20.012573   337.921687  582.246269   \n",
       "2019-06-02        32.372644  46.659636  44.833929   320.876543  916.636364   \n",
       "2019-06-03        28.904192  43.962397  85.697323   821.010471  891.817610   \n",
       "2019-06-04        38.309282  57.369383  22.644138  1006.187097  837.184211   \n",
       "2019-06-05        52.500556  59.074780  22.220044   871.426136  647.034091   \n",
       "\n",
       "                            Total Visitors                          \n",
       "Device Category      tablet        desktop      mobile      tablet  \n",
       "Date                                                                \n",
       "2019-06-01       115.878788     314.909639  477.708955  115.878788  \n",
       "2019-06-02       132.492308     305.611111  741.898990  131.892308  \n",
       "2019-06-03       270.419355     744.178010  695.792453  115.870968  \n",
       "2019-06-04       154.600000     908.735484  684.184211   64.477778  \n",
       "2019-06-05       141.804598     788.664773  519.465909  128.896552  "
      ]
     },
     "execution_count": 37,
     "metadata": {},
     "output_type": "execute_result"
    }
   ],
   "source": [
    "traffic.head()"
   ]
  },
  {
   "cell_type": "markdown",
   "metadata": {},
   "source": [
    "___\n",
    "\n",
    "1. Buatlah DataFrame `traffic` diatas menjadi multi index DataFrame dimana kita memiliki informasi index `Date` dan `Device Category`. Simpan DataFrame tersebut kedalam objek `traffic_new`.\n",
    "\n",
    "<!--\n",
    "\n",
    "Reference answer :\n",
    "\n",
    "```python\n",
    "traffic_new = traffic.stack()\n",
    "```\n",
    "\n",
    "-->\n",
    "\n",
    "> Hint : Expektasi output dataframe \n",
    "\n",
    "<img src=\"assets/stack_quiz3.jpg\" width=400>"
   ]
  },
  {
   "cell_type": "code",
   "execution_count": 47,
   "metadata": {
    "ExecuteTime": {
     "end_time": "2020-07-21T14:38:43.926155Z",
     "start_time": "2020-07-21T14:38:43.922164Z"
    }
   },
   "outputs": [],
   "source": [
    "## Code Here\n"
   ]
  },
  {
   "cell_type": "markdown",
   "metadata": {},
   "source": [
    "___\n",
    "\n",
    "2. Dengan menggunakan method `groupby()`, bagaimana cara Anda untuk menghitung total evaluasi traffic website pada setiap device (desktop, mobile, tablet) untuk masing-masing parameter evaluasi (Bounce Rate, Sessions, Total Visitors) menggunakan objek `traffic_new` yang sudah Anda buat diatas? \n",
    "\n",
    "<!-- \n",
    "\n",
    "Reference answer :\n",
    "\n",
    "```python\n",
    "traffic_new.groupby('Device Category').sum()\n",
    "```\n",
    "-->\n",
    "\n",
    "Ekspektasi output:\n",
    "<img src=\"assets/groupby_multi.PNG\" width=400>"
   ]
  },
  {
   "cell_type": "code",
   "execution_count": 48,
   "metadata": {
    "ExecuteTime": {
     "end_time": "2020-07-21T14:40:11.909479Z",
     "start_time": "2020-07-21T14:40:11.905484Z"
    }
   },
   "outputs": [],
   "source": [
    "## Code Here\n",
    "\n",
    "##"
   ]
  },
  {
   "cell_type": "markdown",
   "metadata": {},
   "source": [
    "___\n",
    "\n",
    "3. Menggunakan objek `traffic_new`, misal kita ingin mendapatkan summary dari rata-rata `Bounce Rate` dan `Sessions` berdasarkan masing-masing `Device Category` dan kita ingin mendapatkan total dari `Total Visitors` berdasarkan Device Category nya. Berapakah rata-rata `Sessions` yang terdapat pada mobile device?\n",
    "\n",
    "<!--\n",
    "\n",
    "Reference answer :\n",
    "\n",
    "```python\n",
    "traffic_new.groupby('Device Category').agg({\n",
    "    'Bounce Rate' : 'mean',\n",
    "    'Sessions' :'mean',\n",
    "    'Total Visitors' : 'sum' \n",
    "})\n",
    "```\n",
    "\n",
    "Jadi rata-rata `Sessions` yang terdapat pada mobile device adalah **703.96**\n",
    "\n",
    "-->\n",
    "\n",
    "- [ ] 38.89\n",
    "- [ ] 50.197\n",
    "- [ ] 703.96\n",
    "- [ ] 17209.416"
   ]
  },
  {
   "cell_type": "code",
   "execution_count": 52,
   "metadata": {
    "ExecuteTime": {
     "end_time": "2020-07-21T14:50:07.211200Z",
     "start_time": "2020-07-21T14:50:07.207210Z"
    }
   },
   "outputs": [],
   "source": [
    "## Code Here\n"
   ]
  },
  {
   "cell_type": "markdown",
   "metadata": {},
   "source": [
    "___\n",
    "\n",
    "4. Menggunakan objek `desktop_traffic`, pada hari apakah rata-rata total visitor website yang paling tinggi pada desktop device? \n",
    "\n",
    "> Hint : Anda mungkin membutuhkan method `sort_values()` untuk mengurutkan nilai rata-rata total visitornya \n",
    "\n",
    "- [ ] Saturday\n",
    "- [ ] Friday\n",
    "- [ ] Tuesday\n",
    "\n",
    "<!-- \n",
    "\n",
    "Reference answer :\n",
    "\n",
    "```python\n",
    "desktop_traffic.groupby('Weekday').agg({\n",
    "    'Total Visitors' : 'mean'\n",
    "}).sort_values(by = 'Total Visitors', ascending=False)\n",
    "```\n",
    "\n",
    "Jadi rata-rata visitor tertinggi pada website tersebut dengan desktop device adalah pada hari **Tuesday** atau Selasa\n",
    "\n",
    "-->\n"
   ]
  },
  {
   "cell_type": "code",
   "execution_count": 64,
   "metadata": {
    "ExecuteTime": {
     "end_time": "2020-07-21T14:57:44.832924Z",
     "start_time": "2020-07-21T14:57:44.828935Z"
    }
   },
   "outputs": [],
   "source": [
    "## Code Here\n",
    "\n"
   ]
  },
  {
   "cell_type": "markdown",
   "metadata": {},
   "source": [
    "___\n",
    "\n",
    "5. Sebaliknya, pada hari apakah yang memiliki rata-rata total visitor terendah pada desktop device?\n",
    "\n",
    "\n",
    "- [ ] Saturday\n",
    "- [ ] Friday\n",
    "- [ ] Tuesday\n",
    "\n",
    "<!-- \n",
    "\n",
    "Reference answer :\n",
    "\n",
    "```python\n",
    "desktop_traffic.groupby('Weekday').agg({\n",
    "    'Total Visitors' : 'mean'\n",
    "}).sort_values(by = 'Total Visitors', ascending=True)\n",
    "```\n",
    "\n",
    "Jadi rata-rata visitor tertinggi pada website tersebut dengan desktop device adalah pada hari **Saturday** atau Sabtu\n",
    "\n",
    "-->"
   ]
  },
  {
   "cell_type": "code",
   "execution_count": 66,
   "metadata": {
    "ExecuteTime": {
     "end_time": "2020-07-21T14:59:48.315876Z",
     "start_time": "2020-07-21T14:59:48.311893Z"
    }
   },
   "outputs": [],
   "source": [
    "## Code Here\n",
    "\n"
   ]
  },
  {
   "cell_type": "markdown",
   "metadata": {},
   "source": [
    "## Pandas Data Visualization\n",
    "Dalam melakukan analisis data, cara paling umum untuk menyampaikan ringkasan data adalah dengan menggunakan visualisasi. `pandas` menyediakan fungsionalitas untuk membuat plot sederhana menggunakan method `.plot()`. Method ini merupakan method yang dapat di akses dari dataframe secara langsung. \n",
    "\n",
    "Perhatikan contoh di bawah ini untuk melihat bagaimana cara memvisualisasikan rata-rata pengunjung website untuk setiap harinya!"
   ]
  },
  {
   "cell_type": "code",
   "execution_count": 67,
   "metadata": {
    "ExecuteTime": {
     "end_time": "2020-07-21T15:01:36.836436Z",
     "start_time": "2020-07-21T15:01:36.820443Z"
    }
   },
   "outputs": [
    {
     "data": {
      "text/html": [
       "<div>\n",
       "<style scoped>\n",
       "    .dataframe tbody tr th:only-of-type {\n",
       "        vertical-align: middle;\n",
       "    }\n",
       "\n",
       "    .dataframe tbody tr th {\n",
       "        vertical-align: top;\n",
       "    }\n",
       "\n",
       "    .dataframe thead th {\n",
       "        text-align: right;\n",
       "    }\n",
       "</style>\n",
       "<table border=\"1\" class=\"dataframe\">\n",
       "  <thead>\n",
       "    <tr style=\"text-align: right;\">\n",
       "      <th></th>\n",
       "      <th>Bounce Rate</th>\n",
       "      <th>Sessions</th>\n",
       "      <th>Total Visitors</th>\n",
       "      <th>Weekday</th>\n",
       "      <th>Weeknumber</th>\n",
       "      <th>Visitors Growth</th>\n",
       "    </tr>\n",
       "    <tr>\n",
       "      <th>Date</th>\n",
       "      <th></th>\n",
       "      <th></th>\n",
       "      <th></th>\n",
       "      <th></th>\n",
       "      <th></th>\n",
       "      <th></th>\n",
       "    </tr>\n",
       "  </thead>\n",
       "  <tbody>\n",
       "    <tr>\n",
       "      <th>2019-06-01</th>\n",
       "      <td>41.46</td>\n",
       "      <td>337.92</td>\n",
       "      <td>314.91</td>\n",
       "      <td>Saturday</td>\n",
       "      <td>22</td>\n",
       "      <td>NaN</td>\n",
       "    </tr>\n",
       "    <tr>\n",
       "      <th>2019-06-02</th>\n",
       "      <td>32.37</td>\n",
       "      <td>320.88</td>\n",
       "      <td>305.61</td>\n",
       "      <td>Sunday</td>\n",
       "      <td>22</td>\n",
       "      <td>-9.30</td>\n",
       "    </tr>\n",
       "    <tr>\n",
       "      <th>2019-06-03</th>\n",
       "      <td>28.90</td>\n",
       "      <td>821.01</td>\n",
       "      <td>744.18</td>\n",
       "      <td>Monday</td>\n",
       "      <td>23</td>\n",
       "      <td>438.57</td>\n",
       "    </tr>\n",
       "    <tr>\n",
       "      <th>2019-06-04</th>\n",
       "      <td>38.31</td>\n",
       "      <td>1006.19</td>\n",
       "      <td>908.74</td>\n",
       "      <td>Tuesday</td>\n",
       "      <td>23</td>\n",
       "      <td>164.56</td>\n",
       "    </tr>\n",
       "    <tr>\n",
       "      <th>2019-06-05</th>\n",
       "      <td>52.50</td>\n",
       "      <td>871.43</td>\n",
       "      <td>788.66</td>\n",
       "      <td>Wednesday</td>\n",
       "      <td>23</td>\n",
       "      <td>-120.08</td>\n",
       "    </tr>\n",
       "  </tbody>\n",
       "</table>\n",
       "</div>"
      ],
      "text/plain": [
       "            Bounce Rate  Sessions  Total Visitors    Weekday  Weeknumber  \\\n",
       "Date                                                                       \n",
       "2019-06-01        41.46    337.92          314.91   Saturday          22   \n",
       "2019-06-02        32.37    320.88          305.61     Sunday          22   \n",
       "2019-06-03        28.90    821.01          744.18     Monday          23   \n",
       "2019-06-04        38.31   1006.19          908.74    Tuesday          23   \n",
       "2019-06-05        52.50    871.43          788.66  Wednesday          23   \n",
       "\n",
       "            Visitors Growth  \n",
       "Date                         \n",
       "2019-06-01              NaN  \n",
       "2019-06-02            -9.30  \n",
       "2019-06-03           438.57  \n",
       "2019-06-04           164.56  \n",
       "2019-06-05          -120.08  "
      ]
     },
     "execution_count": 67,
     "metadata": {},
     "output_type": "execute_result"
    }
   ],
   "source": [
    "desktop_traffic.head()"
   ]
  },
  {
   "cell_type": "code",
   "execution_count": 70,
   "metadata": {
    "ExecuteTime": {
     "end_time": "2020-07-21T15:03:05.860715Z",
     "start_time": "2020-07-21T15:03:05.738041Z"
    }
   },
   "outputs": [
    {
     "data": {
      "text/plain": [
       "<matplotlib.axes._subplots.AxesSubplot at 0x1c9c449fbe0>"
      ]
     },
     "execution_count": 70,
     "metadata": {},
     "output_type": "execute_result"
    },
    {
     "data": {
      "image/png": "[encoded data removed]",
      "text/plain": [
       "<Figure size 432x288 with 1 Axes>"
      ]
     },
     "metadata": {
      "needs_background": "light"
     },
     "output_type": "display_data"
    }
   ],
   "source": [
    "desktop_traffic.groupby('Weekday').mean()['Total Visitors'].sort_values(ascending=False)\\\n",
    ".plot(kind='bar')"
   ]
  },
  {
   "cell_type": "markdown",
   "metadata": {},
   "source": [
    "Dengan cara visualisasi seperti ini, pembaca akan dimudahkan untuk mendapatkan insight dari suatu data.\n",
    "\n",
    "Jika Anda perhatikan, method `.plot()` memiliki parameter `kind` yang membantu Anda untuk memilih jenis plot yang akan digunakan untuk melakukan visualisasi. Jenis-jenis plot yang didukung oleh method ini berdasarkan informasi pada official pagenya adalah sebagai berikut :\n",
    "\n",
    "__kind : str__\n",
    "\n",
    "- `line` : line plot (default)\n",
    "- `bar` : vertical bar plot\n",
    "- `barh` : horizontal bar plot\n",
    "- `hist` : histogram\n",
    "- `box` : boxplot\n",
    "- `kde` : Kernel Density Estimation plot\n",
    "- `density` : sama seperti ‘kde’\n",
    "- `area` : area plot\n",
    "- `pie` : pie plot\n",
    "- `scatter` : scatter plot\n",
    "- `hexbin` : hexbin plot"
   ]
  },
  {
   "cell_type": "markdown",
   "metadata": {},
   "source": [
    "### Knowledge Check\n",
    "\n",
    "Pada objek `desktop_traffic` Anda memiliki variabel `Visitors Growth` yang menunjukkan pertumbuhan pengunjung website. Dengan menggunakan method `.plot()`, bagaimana cara Anda memvisualiasikan pertumbuhan pengunjung website per harinya? (Note: Urutkan visualisasi dari hari Monday-Sunday)\n",
    "\n",
    "Ekspektasi output:\n",
    "<img src=\"assets/weekday_growth.PNG\" width=400>\n",
    "\n",
    "<!--\n",
    "\n",
    "Reference answer :\n",
    "\n",
    "```python\n",
    "# mendapatkan informasi rata-rata visitors growth per hari\n",
    "df = desktop_traffic.groupby('Weekday').mean()['Visitors Growth']\n",
    "\n",
    "# mengurutkan rata-rata visitors growth dari hari Monday-Sunday\n",
    "df = df.sort_values(ascending=False)\n",
    "\n",
    "# memvisualisasikan menggunakan bar plot\n",
    "df.plot(kind = 'bar')\n",
    "```\n",
    "\n",
    "-->"
   ]
  },
  {
   "cell_type": "code",
   "execution_count": 77,
   "metadata": {
    "ExecuteTime": {
     "end_time": "2020-07-21T15:15:01.571372Z",
     "start_time": "2020-07-21T15:15:01.568381Z"
    },
    "scrolled": true
   },
   "outputs": [],
   "source": [
    "## Code Here\n",
    "\n",
    "##"
   ]
  },
  {
   "cell_type": "markdown",
   "metadata": {},
   "source": [
    "## Task"
   ]
  },
  {
   "cell_type": "markdown",
   "metadata": {},
   "source": [
    "Import data `turnover_balance.csv` yang tersimpan dalam folder \"data_input\" dan simpanlah kedalam objek `turnover`."
   ]
  },
  {
   "cell_type": "code",
   "execution_count": 79,
   "metadata": {
    "ExecuteTime": {
     "end_time": "2020-07-21T15:40:11.138594Z",
     "start_time": "2020-07-21T15:40:11.071791Z"
    }
   },
   "outputs": [
    {
     "data": {
      "text/html": [
       "<div>\n",
       "<style scoped>\n",
       "    .dataframe tbody tr th:only-of-type {\n",
       "        vertical-align: middle;\n",
       "    }\n",
       "\n",
       "    .dataframe tbody tr th {\n",
       "        vertical-align: top;\n",
       "    }\n",
       "\n",
       "    .dataframe thead th {\n",
       "        text-align: right;\n",
       "    }\n",
       "</style>\n",
       "<table border=\"1\" class=\"dataframe\">\n",
       "  <thead>\n",
       "    <tr style=\"text-align: right;\">\n",
       "      <th></th>\n",
       "      <th>satisfaction_level</th>\n",
       "      <th>last_evaluation</th>\n",
       "      <th>number_project</th>\n",
       "      <th>average_montly_hours</th>\n",
       "      <th>time_spend_company</th>\n",
       "      <th>Work_accident</th>\n",
       "      <th>promotion_last_5years</th>\n",
       "      <th>division</th>\n",
       "      <th>salary</th>\n",
       "      <th>left</th>\n",
       "    </tr>\n",
       "  </thead>\n",
       "  <tbody>\n",
       "    <tr>\n",
       "      <th>0</th>\n",
       "      <td>0.82</td>\n",
       "      <td>0.68</td>\n",
       "      <td>3</td>\n",
       "      <td>140</td>\n",
       "      <td>2</td>\n",
       "      <td>0</td>\n",
       "      <td>0</td>\n",
       "      <td>sales</td>\n",
       "      <td>low</td>\n",
       "      <td>0</td>\n",
       "    </tr>\n",
       "    <tr>\n",
       "      <th>1</th>\n",
       "      <td>0.79</td>\n",
       "      <td>0.67</td>\n",
       "      <td>5</td>\n",
       "      <td>156</td>\n",
       "      <td>2</td>\n",
       "      <td>0</td>\n",
       "      <td>0</td>\n",
       "      <td>product_mng</td>\n",
       "      <td>low</td>\n",
       "      <td>0</td>\n",
       "    </tr>\n",
       "    <tr>\n",
       "      <th>2</th>\n",
       "      <td>0.73</td>\n",
       "      <td>0.95</td>\n",
       "      <td>3</td>\n",
       "      <td>149</td>\n",
       "      <td>2</td>\n",
       "      <td>0</td>\n",
       "      <td>0</td>\n",
       "      <td>support</td>\n",
       "      <td>low</td>\n",
       "      <td>0</td>\n",
       "    </tr>\n",
       "    <tr>\n",
       "      <th>3</th>\n",
       "      <td>0.92</td>\n",
       "      <td>0.78</td>\n",
       "      <td>3</td>\n",
       "      <td>218</td>\n",
       "      <td>3</td>\n",
       "      <td>0</td>\n",
       "      <td>0</td>\n",
       "      <td>technical</td>\n",
       "      <td>low</td>\n",
       "      <td>0</td>\n",
       "    </tr>\n",
       "    <tr>\n",
       "      <th>4</th>\n",
       "      <td>0.69</td>\n",
       "      <td>1.00</td>\n",
       "      <td>5</td>\n",
       "      <td>237</td>\n",
       "      <td>3</td>\n",
       "      <td>0</td>\n",
       "      <td>0</td>\n",
       "      <td>technical</td>\n",
       "      <td>high</td>\n",
       "      <td>0</td>\n",
       "    </tr>\n",
       "  </tbody>\n",
       "</table>\n",
       "</div>"
      ],
      "text/plain": [
       "   satisfaction_level  last_evaluation  number_project  average_montly_hours  \\\n",
       "0                0.82             0.68               3                   140   \n",
       "1                0.79             0.67               5                   156   \n",
       "2                0.73             0.95               3                   149   \n",
       "3                0.92             0.78               3                   218   \n",
       "4                0.69             1.00               5                   237   \n",
       "\n",
       "   time_spend_company  Work_accident  promotion_last_5years     division  \\\n",
       "0                   2              0                      0        sales   \n",
       "1                   2              0                      0  product_mng   \n",
       "2                   2              0                      0      support   \n",
       "3                   3              0                      0    technical   \n",
       "4                   3              0                      0    technical   \n",
       "\n",
       "  salary  left  \n",
       "0    low     0  \n",
       "1    low     0  \n",
       "2    low     0  \n",
       "3    low     0  \n",
       "4   high     0  "
      ]
     },
     "execution_count": 79,
     "metadata": {},
     "output_type": "execute_result"
    }
   ],
   "source": [
    "turnover = pd.read_csv('data_input/turnover_balance.csv')\n",
    "turnover.head()"
   ]
  },
  {
   "cell_type": "markdown",
   "metadata": {},
   "source": [
    "Berdasarkan data `turnover` diatas, berikut ini adalah deskripsi dari setiap variabelnya :\n",
    "\n",
    "- `satisfaction_level` : tingkat kepuasan karyawan bekerja di suatu perusahaan\n",
    "- `last_evaluation` : tingkat kepuasan karyawan pada evaluasi terakhir\n",
    "- `number_project` : banyaknya project yang telah diterima karyawan\n",
    "- `average_monthly_hours` : rata-rata jam kerja per bulan\n",
    "- `time_spend_company` : lama waktu bekerja dalam perusahaan (tahun)\n",
    "- `Work_accident` : ada tidaknya kecelakaan kerja, 0 = tidak ada, 1 = ada\n",
    "- `promotion_last_5years` : pernah mendapatkan promoksi dalam 5 tahun terakhir, 0 = tidak, 1 = ya\n",
    "- `division` : nama departemen atau divisi\n",
    "- `salary` : tingkat pendapatan, dibagi menjadi low, medium dan high\n",
    "- `left` : data history karyawan resign, 0 = tidak, 1 = ya"
   ]
  },
  {
   "cell_type": "code",
   "execution_count": 23,
   "metadata": {},
   "outputs": [
    {
     "data": {
      "text/plain": [
       "(7142, 10)"
      ]
     },
     "execution_count": 23,
     "metadata": {},
     "output_type": "execute_result"
    }
   ],
   "source": [
    "turnover.shape"
   ]
  },
  {
   "cell_type": "code",
   "execution_count": 39,
   "metadata": {},
   "outputs": [
    {
     "data": {
      "text/plain": [
       "satisfaction_level       float64\n",
       "last_evaluation          float64\n",
       "number_project             int64\n",
       "average_montly_hours       int64\n",
       "time_spend_company         int64\n",
       "Work_accident              int64\n",
       "promotion_last_5years      int64\n",
       "division                  object\n",
       "salary                    object\n",
       "left                       int64\n",
       "dtype: object"
      ]
     },
     "execution_count": 39,
     "metadata": {},
     "output_type": "execute_result"
    }
   ],
   "source": [
    "turnover.dtypes"
   ]
  },
  {
   "cell_type": "markdown",
   "metadata": {},
   "source": [
    "### Pre-processing data\n",
    "\n",
    "Dari data turnover di atas, lakukan preprocessing data dengan:\n",
    "\n",
    "___\n",
    "\n",
    "1. Kolom manakah yang belum sesuai tipe datanya?\n",
    "\n",
    "> Hint : terdapat 5 kolom yang belum sesuai tipe datanya\n",
    "\n",
    "___\n"
   ]
  },
  {
   "cell_type": "code",
   "execution_count": null,
   "metadata": {},
   "outputs": [],
   "source": [
    "# your code here\n"
   ]
  },
  {
   "cell_type": "markdown",
   "metadata": {},
   "source": [
    "\n",
    "2. Ubahlah setiap kolom yang belum tepat tipe datanya kedalam tipe data yang sesuai.\n",
    "\n",
    "<!--\n",
    "\n",
    "Reference answer : Kolom yang belum sesuai tipe datanya adalah :\n",
    "\n",
    "- `Work_accident` : int64 -> category\n",
    "- `promotion_last_5years` : int64 -> category\n",
    "- `division` : object -> category\n",
    "- `salary` : object -> category\n",
    "- `lef` : int64 -> category\n",
    "\n",
    "-->\n",
    "\n",
    "___\n"
   ]
  },
  {
   "cell_type": "code",
   "execution_count": null,
   "metadata": {},
   "outputs": [],
   "source": [
    "# your code here\n"
   ]
  },
  {
   "cell_type": "markdown",
   "metadata": {},
   "source": [
    "### Exploratory Data Analysis\n",
    "\n",
    "Misalnya Anda berperan sebagai HR pada suatu perusahaan yang ingin menganalisis data karyawan yang Anda miliki.\n",
    "\n",
    "---\n",
    "\n",
    "1. Berapakah rata-rata `satisfaction_level` yang diberikan pada divisi sales?\n",
    "\n",
    "    - [ ] 0.553801\n",
    "    - [ ] 0.522670\n",
    "    - [ ] 0.54\n",
    "    - [ ] 0.585385\n",
    "\n",
    "<!--\n",
    "Reference answer :\n",
    "\n",
    "```python\n",
    "# preproces data\n",
    "turnover[['Work_accident', 'promotion_last_5years', 'division', 'salary', 'left']] = \\\n",
    "turnover[['Work_accident', 'promotion_last_5years', 'division', 'salary', 'left']].astype('category')\n",
    "\n",
    "# aggregasi data\n",
    "turnover.groupby('division').agg({\n",
    "    'satisfaction_level' : 'mean'\n",
    "})\n",
    "```\n",
    "\n",
    "Jadi rata-rata `satisfaction_level` yang diberikan pada divisi sales adalah **0.553801**\n",
    "-->\n",
    "\n",
    "---\n",
    "\n"
   ]
  },
  {
   "cell_type": "code",
   "execution_count": null,
   "metadata": {},
   "outputs": [],
   "source": [
    "# your code here\n"
   ]
  },
  {
   "cell_type": "markdown",
   "metadata": {},
   "source": [
    "2. Berdasarkan informasi pada pertanyaan diatas, divisi apakah yang memiliki rata-rata `satisfaction_level` terendah? \n",
    "\n",
    "    - [ ] hr\n",
    "    - [ ] technical\n",
    "    - [ ] RandD\n",
    "    - [ ] accounting\n",
    "\n",
    "<!--\n",
    "Reference answer :\n",
    "\n",
    "```python\n",
    "turnover.groupby('division').agg({\n",
    "    'satisfaction_level' : 'mean'\n",
    "}).sort_values('satisfaction_level', ascending = True)\n",
    "```\n",
    "\n",
    "Jadi divisi yang memberikan rata-rata `satisfaction_level` terendah adalah divisi **accounting**\n",
    "-->\n",
    "\n",
    "\n",
    "---\n",
    "\n"
   ]
  },
  {
   "cell_type": "code",
   "execution_count": 1,
   "metadata": {
    "ExecuteTime": {
     "end_time": "2022-01-05T03:09:15.868966Z",
     "start_time": "2022-01-05T03:09:15.863932Z"
    }
   },
   "outputs": [],
   "source": [
    "# your code here\n"
   ]
  },
  {
   "cell_type": "markdown",
   "metadata": {},
   "source": [
    "3. Divisi manakah yang tergolong memiliki total salary rendah paling tinggi?\n",
    "\n",
    "    - [ ] IT\n",
    "    - [ ] sales\n",
    "    - [ ] technical\n",
    "    - [ ] IT\n",
    "\n",
    "<!--\n",
    "Reference answer :\n",
    "\n",
    "```python\n",
    "turnover.groupby(['division', 'salary']).agg({\n",
    "    'salary' : 'count'\n",
    "}).unstack()['salary'].sort_values('low', ascending = False)\n",
    "```\n",
    "\n",
    "Jadi divisi yang tergolong memiliki total salary rendah paling tinggi adalah **sales**\n",
    "-->\n",
    "\n",
    "---\n",
    "\n"
   ]
  },
  {
   "cell_type": "code",
   "execution_count": null,
   "metadata": {},
   "outputs": [],
   "source": [
    "# your code here\n"
   ]
  },
  {
   "cell_type": "markdown",
   "metadata": {},
   "source": [
    "4. Divisi manakah yang memiliki rata-rata `average_montly_hours` tertinggi berdasarkan status `left` = 1 ?\n",
    "\n",
    "    - [ ] IT\n",
    "    - [ ] technical\n",
    "    - [ ] sales\n",
    "    - [ ] hr\n",
    "\n",
    "<!--\n",
    "Reference answer :\n",
    "\n",
    "```python\n",
    "turnover[turnover['left'] == 1].groupby('division').agg({\n",
    "   'average_montly_hours' : 'mean'\n",
    "}).sort_values('average_montly_hours', ascending = False)\n",
    "```\n",
    "\n",
    "Jadi divisi yang memiliki rata-rata `average_montly_hours` tertinggi berdasarkan status `left` = 1 adalah **technical**\n",
    "-->\n",
    "\n",
    "---\n",
    "\n"
   ]
  },
  {
   "cell_type": "code",
   "execution_count": null,
   "metadata": {},
   "outputs": [],
   "source": [
    "# your code here\n"
   ]
  },
  {
   "cell_type": "markdown",
   "metadata": {},
   "source": [
    "5. Divisi apakah yang paling banyak memiliki historycal status `left` = 1 ?\n",
    "\n",
    "    - [ ] IT\n",
    "    - [ ] technical\n",
    "    - [ ] sales\n",
    "    - [ ] hr\n",
    "\n",
    "<!--\n",
    "Reference answer :\n",
    "\n",
    "```python\n",
    "turnover.groupby(['division', 'left']).agg({\n",
    "   'left' : 'count'\n",
    "}).unstack()['left'].sort_values(by = 1, ascending=False)\n",
    "```\n",
    "\n",
    "Jadi divisi yang paling banyak memiliki historycal status `left` = 1 adalah **sales**\n",
    "-->\n",
    "\n",
    "---\n"
   ]
  },
  {
   "cell_type": "code",
   "execution_count": null,
   "metadata": {},
   "outputs": [],
   "source": [
    "# your code here\n"
   ]
  },
  {
   "cell_type": "markdown",
   "metadata": {},
   "source": [
    "### Visualization\n",
    "\n",
    "1. Jika pada soal ke 2 bagian exploratory data analysis kita visualisasikan, bagaimanakah visualisasi yang tepat?\n",
    "\n",
    "<!-- \n",
    "Reference answer :\n",
    "\n",
    "```python\n",
    "turnover.groupby('division').agg({\n",
    "    'satisfaction_level' : 'mean'\n",
    "}).sort_values('satisfaction_level', ascending = True).plot(kind = 'bar')\n",
    "```\n",
    "\n",
    "Menggunakan bar plot supaya dibedakan berdasarkan masing-masing divisi\n",
    "-->\n",
    "\n",
    "\n"
   ]
  },
  {
   "cell_type": "code",
   "execution_count": null,
   "metadata": {},
   "outputs": [],
   "source": [
    "# your code here\n"
   ]
  },
  {
   "cell_type": "markdown",
   "metadata": {},
   "source": [
    "---\n",
    "\n",
    "2. Simpanlah agregasi tabel pada soal ke 3 bagian exploratory data analysis diatas pada objek `df`. Visualisasikan objek `df` tersebut berdasarkan divisi yang memiliki tingkat salary terendah paling tinggi hingga divisi yang memiliki tingkat salary rendah paling rendah.\n",
    "\n",
    "Ekspektasi output:\n",
    "<img src=\"assets/q2.jpg\" width=400>\n",
    "\n",
    "<!-- \n",
    "Reference answer :\n",
    "\n",
    "```python\n",
    "df = turnover.groupby(['division', 'salary']).agg({\n",
    "    'salary' : 'count'\n",
    "}).unstack()['salary'].sort_values('low', ascending = False)\n",
    "\n",
    "df.plot(kind = 'bar')\n",
    "```\n",
    "-->\n",
    "\n",
    "---\n",
    "\n"
   ]
  },
  {
   "cell_type": "code",
   "execution_count": null,
   "metadata": {},
   "outputs": [],
   "source": [
    "# your code here\n"
   ]
  },
  {
   "cell_type": "markdown",
   "metadata": {},
   "source": [
    "3. Buatlah visualisasi berdasarkan hubungan `satisfaction_level` dan `last_evaluation` pada karyawan dalam divisi sales yang memiliki historycal status `left` = 1.\n",
    "\n",
    "Ekspektasi output:\n",
    "<img src=\"assets/q3.jpg\" width=400>\n",
    "\n",
    "<!-- \n",
    "Reference answer :\n",
    "\n",
    "```python\n",
    "turnover[(turnover['left']== 1)&(turnover['division'] == 'sales')].plot(kind = 'scatter', x = 'satisfaction_level', y = 'last_evaluation')\n",
    "```\n",
    "-->\n",
    "\n",
    "---\n"
   ]
  },
  {
   "cell_type": "code",
   "execution_count": 2,
   "metadata": {
    "ExecuteTime": {
     "end_time": "2022-01-05T03:10:51.474399Z",
     "start_time": "2022-01-05T03:10:51.468942Z"
    }
   },
   "outputs": [],
   "source": [
    "# your code Here\n",
    "\n"
   ]
  },
  {
   "cell_type": "markdown",
   "metadata": {},
   "source": [
    "### **Notes**\n",
    "\n",
    "> **Reference anwer dapat Anda lihat pada setiap markdown soal**"
   ]
  }
 ],
 "metadata": {
  "kernelspec": {
   "display_name": "qoppa-new",
   "language": "python",
   "name": "qoppa-new"
  },
  "language_info": {
   "codemirror_mode": {
    "name": "ipython",
    "version": 3
   },
   "file_extension": ".py",
   "mimetype": "text/x-python",
   "name": "python",
   "nbconvert_exporter": "python",
   "pygments_lexer": "ipython3",
   "version": "3.9.7"
  },
  "toc": {
   "base_numbering": 1,
   "nav_menu": {},
   "number_sections": true,
   "sideBar": true,
   "skip_h1_title": true,
   "title_cell": "Table of Contents",
   "title_sidebar": "Contents",
   "toc_cell": false,
   "toc_position": {
    "height": "calc(100% - 180px)",
    "left": "10px",
    "top": "150px",
    "width": "268px"
   },
   "toc_section_display": true,
   "toc_window_display": true
  }
 },
 "nbformat": 4,
 "nbformat_minor": 4
}
